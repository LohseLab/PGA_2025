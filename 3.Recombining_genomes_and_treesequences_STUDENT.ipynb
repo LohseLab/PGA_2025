{
 "cells": [
  {
   "cell_type": "markdown",
   "metadata": {},
   "source": [
    "# Practical 3. Simulating recombining genomes - a simulation journey to the happy land of treesequences \n",
    "\n",
    "At the end of this practical you should:\n",
    "\n",
    "- Know what ARGs and treesequences are, how they are constructed and how they differ\n",
    "- Appreciate that not all recombination events are detectable\n",
    "- Understand the difference between map and physical length of a sequence\n",
    "- Know that the span of trees along the genome is a random variable and that nodes are shared between many trees\n",
    "- Understand that the duality between branch lengths and popgen measures extends to correlated trees"
   ]
  },
  {
   "cell_type": "code",
   "execution_count": 1,
   "metadata": {},
   "outputs": [],
   "source": [
    "import msprime\n",
    "import tskit\n",
    "import numpy as np\n",
    "import pandas as pd\n",
    "import seaborn as sns\n",
    "from IPython.display import Image, SVG, set_matplotlib_formats\n",
    "import matplotlib as mpl\n",
    "from matplotlib import pyplot as plt\n",
    "#jupyter magic\n",
    "%matplotlib inline\n",
    "import warnings\n",
    "warnings.filterwarnings('ignore')"
   ]
  },
  {
   "cell_type": "markdown",
   "metadata": {},
   "source": [
    "## 3.1 Three theoretical flies! A simple coalescent simulation with recombination"
   ]
  },
  {
   "cell_type": "markdown",
   "metadata": {},
   "source": [
    "<div class=\"alert alert-block alert-info\">\n",
    "    <b>PopGen:</b>\n",
    "So far we have thought about the coalescent as a model of ancestry that applies to non-recombining \"loci\". While <i>a locus</i> is a useful concept in population genetics precisely because it is rather vague, it is not particularly helpful when thinking about genome sequence data. Some types of sequence (e.g. organelle genomes such as mitochdria) are non-recombining. However, most DNA sequences undergo recombination. In this case, the most basic/indivisible unit of inheritance, i.e. the only meaningful locus, is a single nucleotide.\n",
    "    </div>"
   ]
  },
  {
   "cell_type": "markdown",
   "metadata": {},
   "source": [
    "You have heard (lecture 3) how we can include recombination into the standard coalescent. In this practical, we will use simulations to explore basic properties of the coalescent with recombination.\n",
    "\n",
    "To simulate the ancestry of a sample of recombining sequences with `msprime`, we have to specify a `sequence_length` and a `recombination_rate`. It is alsways useful to make simulations both as simple as possible but also concrete, i.e. to choose parameters that apply at least roughly to some real population in nature. We will focus on two cases in this practical: *Drosophila melanogaster* and *Homo sapiens*. Population genomic variation has been studied excessively in both models and, together, they span a broad range of population genetic parameter space."
   ]
  },
  {
   "cell_type": "markdown",
   "metadata": {},
   "source": [
    "<div class=\"alert alert-block alert-success\">    \n",
    "    <b>Exercise 1:</b> The length of the genetic map of <i>D. melanogaster</i> is <a href=\"https://journals.plos.org/plosgenetics/article?id=10.1371/journal.pgen.1002905\">282 cM</a>. Given a genome size of $\\approx$ 180 Mb, what is the per base, per generation rate of recombination? How does this compare to the mutation rate estimated by <a href=\"https://genome.cshlp.org/content/19/7/1195\">Keightley et al (2009)</a>?\n",
    "    </div>"
   ]
  },
  {
   "cell_type": "code",
   "execution_count": 1,
   "metadata": {},
   "outputs": [],
   "source": [
    "#SOL"
   ]
  },
  {
   "cell_type": "markdown",
   "metadata": {},
   "source": [
    "<div class=\"alert alert-block alert-success\">    \n",
    "    <b>Exercise 2:</b> Set the per base recombination rate to $1/2$ of your estimate (given that recombination in <i>Drosophila</i> is restricted to females) to simulate the ancestry of a neutrally evolving sequence of length 50kb sampled in 3 individuals. How many marginal trees contribute to the ancestry of this sequence? Assume $N_e = 10^6$ which corresponds roughly to estimates for <i>D. melanogaster</i> (see practical 2).\n",
    "\n",
    "<b>Hint:</b> You can use <a href=\"https://tskit.dev/tskit/docs/stable/python-api.html?highlight=num_trees#tskit.TreeSequence.num_trees\"><code>num_trees</code></a> to count the trees in a ts (use random seed = 87).\n",
    "    </div>"
   ]
  },
  {
   "cell_type": "code",
   "execution_count": 2,
   "metadata": {},
   "outputs": [],
   "source": [
    "#SOL"
   ]
  },
  {
   "cell_type": "code",
   "execution_count": 3,
   "metadata": {},
   "outputs": [],
   "source": [
    "#SOL"
   ]
  },
  {
   "cell_type": "markdown",
   "metadata": {},
   "source": [
    "<div class=\"alert alert-block alert-success\">    \n",
    "    <b>Exercise 3:</b> Use <code>draw_svg()</code> to look at the tree sequence. Going from left to right, can you work out which genealogical nodes each marginal tree does not share with its neighbour? On which branches could the recombination events be located that define the first 5 trees?\n",
    "\n",
    "<b>Hint:</b> to keep the figure manageable, use the <code>x_lim = [0,100]</code> argument to plot the first 100 bases. Note down the number of the node above each reccombination event. \n",
    "    </div>"
   ]
  },
  {
   "cell_type": "code",
   "execution_count": 5,
   "metadata": {
    "scrolled": true
   },
   "outputs": [],
   "source": [
    "#SOL"
   ]
  },
  {
   "cell_type": "code",
   "execution_count": 6,
   "metadata": {},
   "outputs": [],
   "source": [
    "#SOL"
   ]
  },
  {
   "cell_type": "markdown",
   "metadata": {},
   "source": [
    "<div class=\"alert alert-block alert-info\">\n",
    "    <b>PopGen:</b>\n",
    "    \n",
    "Since each successive tree in the tree sequence is separated from its neighbours to the left and right by a single recombination breakpoint, we might expect that the average number of trees in a tree sequence is equal to the expected number of recombination breakpoints $E[R]+1$.\n",
    "\n",
    "The expected number of recombination events can be derived using the total tree length under the standard coalescent using the same logic we've used to derive $E[S]$, the expected number of mutations (see mini lectures 2 and 3)!\n",
    "    </div>"
   ]
  },
  {
   "cell_type": "markdown",
   "metadata": {},
   "source": [
    "<div class=\"alert alert-block alert-success\">    \n",
    "    <b>Exercise 4:</b> Work out the population scaled recombination rate $\\rho_L = 4 N_e r \\times L$ for the region you have simulated. Analogous to $\\theta$, this can be interpreted as the expected number of recombination events in a sample of $n=2$.\n",
    "    </div>"
   ]
  },
  {
   "cell_type": "code",
   "execution_count": 7,
   "metadata": {},
   "outputs": [],
   "source": [
    "#SOL"
   ]
  },
  {
   "cell_type": "markdown",
   "metadata": {},
   "source": [
    "<div class=\"alert alert-block alert-success\">    \n",
    "    <b>Exercise 5: </b> What is the expected number of recombination events for the <i>D. melanogaster</i> like simulation of $n=6$ you have simulated above (see lecture 3)? \n",
    "    </div>"
   ]
  },
  {
   "cell_type": "code",
   "execution_count": 8,
   "metadata": {},
   "outputs": [],
   "source": [
    "#Use the formula for E[R] given in lecture 3:"
   ]
  },
  {
   "cell_type": "markdown",
   "metadata": {},
   "source": [
    "<div class=\"alert alert-block alert-success\">    \n",
    "    <b>Exercise 6: </b> How does this expectation compare to the number of trees in a 50 kb stretch of sequence? Is it likely that your <code>ts</code> has fewer trees than expected just by chance? Use the code below to simulate 100 replicate treesequences for the same  <i>D. melanogaster </i> parameters. Check the minimum and maximum number of trees and plot the distribution of the number of trees across sim replicates using <a href=\"https://seaborn.pydata.org/tutorial/distributions.html\"><code>displot</code></a>.\n",
    "\n",
    "<b>Hint:</b> The functions <code>min()</code> and <code>max()</code> are handy. \n",
    "        </div>"
   ]
  },
  {
   "cell_type": "code",
   "execution_count": null,
   "metadata": {},
   "outputs": [],
   "source": [
    "#This is using the numpy generator recipe: we are first defining an empty array: \n",
    "num_replicates = 100\n",
    "tree_count = np.zeros(num_replicates)#\n",
    "#Then setting up an ancestry simulation:\n",
    "repl_ts = msprime.sim_ancestry(3, population_size = 1_000_000,\n",
    "                              recombination_rate = r_dmel_sex_avg,\n",
    "                              sequence_length = 50_000, num_replicates = num_replicates, random_seed = 87)\n",
    "#For each replicate we record the number of trees:\n",
    "for repl_index, ts in enumerate(repl_ts):\n",
    "    tree_count[repl_index] = ts.num_trees"
   ]
  },
  {
   "cell_type": "code",
   "execution_count": 10,
   "metadata": {},
   "outputs": [],
   "source": [
    "#SOL"
   ]
  },
  {
   "cell_type": "code",
   "execution_count": 11,
   "metadata": {},
   "outputs": [],
   "source": [
    "#SOL\n",
    "#this syntax is useful for labelling plot axes:\n",
    "#ax = sns.displot(x = data, stat=\"density\");\n",
    "#ax.set(xlabel='number of trees',\n",
    "#       ylabel='freq')\n",
    "#plt.show()"
   ]
  },
  {
   "cell_type": "markdown",
   "metadata": {},
   "source": [
    "<div class=\"alert alert-block alert-success\">    \n",
    "    <b>Exercise 7:</b> What is the distribution of sequence lengths trees span in your 50kb stretch of neutrally evolving <i>D. melanogaster </i> sequence? What is the mean tree span? Record the span of each tree as a <code>np.array</code> and plot the distribution of spans using <a href=\"https://seaborn.pydata.org/tutorial/distributions.html\"><code>displot</code></a>\n",
    "\n",
    "**Hint:** You need to set up a <code>for</code> loop to iterate over all trees in the ts. To do this, use the <a href=\"https://tskit.dev/tskit/docs/stable/python-api.html#tskit.TreeSequence.trees\"><code>trees()</code></a> method, which returns an iterator over the trees in a tree sequence.\n",
    "    </div>"
   ]
  },
  {
   "cell_type": "code",
   "execution_count": 12,
   "metadata": {},
   "outputs": [],
   "source": [
    "#SOL\n",
    "#Another case for the numpy generator plus for loop recipe"
   ]
  },
  {
   "cell_type": "code",
   "execution_count": 13,
   "metadata": {},
   "outputs": [],
   "source": [
    "#SOL"
   ]
  },
  {
   "cell_type": "markdown",
   "metadata": {},
   "source": [
    "<div class=\"alert alert-block alert-success\">    \n",
    "    <b>Exercise 8:</b> Record the $t_{mrca}$ of each tree (see practical 1!). What is the mean $t_{mrca}$ across trees? What are the units? How well does this agree with the analytic expectation $E[t_{mrca}]$ for this sample?\n",
    "    </div>"
   ]
  },
  {
   "cell_type": "code",
   "execution_count": 14,
   "metadata": {},
   "outputs": [],
   "source": [
    "#SOL"
   ]
  },
  {
   "cell_type": "code",
   "execution_count": null,
   "metadata": {},
   "outputs": [],
   "source": [
    "#SOL"
   ]
  },
  {
   "cell_type": "markdown",
   "metadata": {},
   "source": [
    "<div class=\"alert alert-block alert-success\">    \n",
    "    <b>Exercise 9:</b> What is the relationship between tree span and tree depth, i.e. the $t_{mrca}$?\n",
    "\n",
    "**Hint:** A useful seaborn plot for this purpose is [regplot](https://seaborn.pydata.org/tutorial/regression.html#functions-to-draw-linear-regression-models)\n",
    "    </div>"
   ]
  },
  {
   "cell_type": "code",
   "execution_count": 15,
   "metadata": {},
   "outputs": [],
   "source": [
    "#SOL\n",
    "#this plot sytax is useful:\n",
    "#fig, ax = plt.subplots(figsize=(10,10))\n",
    "#sns.regplot(x=span_list, y=tmrca_list, ax =ax);"
   ]
  },
  {
   "cell_type": "markdown",
   "metadata": {},
   "source": [
    "<div class=\"alert alert-block alert-success\">    \n",
    "    <b>Exercise 10:</b> Can you use the spans of trees to find the correct mean $t_{mrca}$ for your treesequence?\n",
    "    </div>"
   ]
  },
  {
   "cell_type": "code",
   "execution_count": 16,
   "metadata": {},
   "outputs": [],
   "source": [
    "#SOL"
   ]
  },
  {
   "cell_type": "markdown",
   "metadata": {},
   "source": [
    "# 3.2 From treesequences to haplotypes\n",
    "While a tree sequence records the exact correlation in ancestry along a genome, when analysing real data we generally do NOT know the underlying tree sequence. Measures of LD and tests for recombination events are generally based on pairs of variants."
   ]
  },
  {
   "cell_type": "markdown",
   "metadata": {},
   "source": [
    "<div class=\"alert alert-block alert-success\">    \n",
    "    <b>Exercise 11:</b> Sprinkle mutations on your <i>D. melanogaster</i> treesequence simulation according to the rate estimate of Keightley et al (2009). How many mutations are there on average per tree in this ts?\n",
    "\n",
    "**Hint:** set <code>discrete_genome = False</code> and <code>random_seed = 54</code>.\n",
    "    </div>"
   ]
  },
  {
   "cell_type": "code",
   "execution_count": 17,
   "metadata": {},
   "outputs": [],
   "source": [
    "#SOL"
   ]
  },
  {
   "cell_type": "code",
   "execution_count": 18,
   "metadata": {},
   "outputs": [],
   "source": [
    "#SOL"
   ]
  },
  {
   "cell_type": "markdown",
   "metadata": {},
   "source": [
    "<div class=\"alert alert-block alert-success\">    \n",
    "    <b>Exercise 12:</b> Check out the region 300-500 bases. What mutations can you see? Would mutations 18 and 19 be compatible with the same tree? What about 13 and 19? Does either pair of loci fail the 4-gamete test (see mini lecture 3)?\n",
    "\n",
    "<b>Hint:</b> use <code>.draw_svg(x_lim = [300,500])</code>"
   ]
  },
  {
   "cell_type": "code",
   "execution_count": 19,
   "metadata": {},
   "outputs": [],
   "source": [
    "#SOL\n",
    "#Since we have used the ancestry simulated in the previous section here, the ts must remains the same but now includes some mutations..."
   ]
  },
  {
   "cell_type": "markdown",
   "metadata": {},
   "source": [
    "<div class=\"alert alert-block alert-warning\">\n",
    "    <b>Python recipe:</b> Once you have assigned the <i>D. melanogaster</i> ts (with mutations!) to a new variable, say <code>dmel_ts_muts</code>, you can store the haplotype alignment as an <code>np.array</code>:\n",
    "    </div>"
   ]
  },
  {
   "cell_type": "code",
   "execution_count": 35,
   "metadata": {},
   "outputs": [],
   "source": [
    "dmel_array = np.zeros((dmel_ts_muts.num_sites, dmel_ts_muts.num_samples))\n",
    "for var_index, var in enumerate(dmel_ts_muts.variants()):\n",
    "    dmel_array[var_index] = var.genotypes"
   ]
  },
  {
   "cell_type": "markdown",
   "metadata": {},
   "source": [
    "e.g. mutation 13 is shared by samples 3 and 5; mutation 19 is shared by all samples apart from 5: "
   ]
  },
  {
   "cell_type": "code",
   "execution_count": null,
   "metadata": {},
   "outputs": [],
   "source": [
    "#This pulls out the list of haplotypes for variant 13. Samples 3 and 5 share the derived allele, 1:\n",
    "dmel_array[13]"
   ]
  },
  {
   "cell_type": "code",
   "execution_count": null,
   "metadata": {},
   "outputs": [],
   "source": [
    "dmel_array[19]"
   ]
  },
  {
   "cell_type": "markdown",
   "metadata": {},
   "source": [
    "<div class=\"alert alert-block alert-success\">    \n",
    "    <b>Exercise 13:</b> Tweak the above code to simulate a sample of 50kb of sequence sampled for three modern humans. Assume a recombination rate of 1.2 cM/Mb and a mutation rate of $2.5 \\times 10^{-8}$. Compare the <i>D. melanogaster</i> and <i>Homo</i> simulations using the summary table of the ts. How do toy treesequences for the two taxa differ?\n",
    "    <div/>"
   ]
  },
  {
   "cell_type": "code",
   "execution_count": 20,
   "metadata": {},
   "outputs": [],
   "source": [
    "#SOL"
   ]
  },
  {
   "cell_type": "markdown",
   "metadata": {},
   "source": [
    "<div class=\"alert alert-block alert-success\">    \n",
    "    <b>Exercise 14:</b> Define the haplotype array for the <i>Homo</i> simulation as a new variable. Use the function below (I borrowed this code from <a href=\"http://alimanfoo.github.io/2017/02/14/mendelian-transmission.html\">A Miles</a>) to plot the <i>Homo</i> and the <i>D. melanogaster</i> alignment! Is it possible to see any treesequence structure in these haplotypes?\n",
    "    </div>"
   ]
  },
  {
   "cell_type": "code",
   "execution_count": 41,
   "metadata": {},
   "outputs": [
    {
     "data": {
      "image/png": "[encoded data removed]",
      "text/plain": [
       "<Figure size 720x72 with 1 Axes>"
      ]
     },
     "metadata": {},
     "output_type": "display_data"
    }
   ],
   "source": [
    "#This creates a colour palette\n",
    "palette = sns.color_palette('colorblind');\n",
    "sns.palplot(palette);"
   ]
  },
  {
   "cell_type": "code",
   "execution_count": 42,
   "metadata": {},
   "outputs": [],
   "source": [
    "def plot_sequence(painting, title=None):\n",
    "    # set figure height depending on number of haplotypes\n",
    "    fig, ax = plt.subplots(figsize=(20, .4 * painting.shape[1]))\n",
    "    \n",
    "    # map painting codes onto colours\n",
    "    cmap = mpl.colors.ListedColormap([\n",
    "        palette[0],  # 0 = an\n",
    "        palette[3],  # 1 = allele inherited from first parental haplotype\n",
    "    ])\n",
    "    # plot painting\n",
    "    ax.pcolormesh(painting.T, cmap=cmap, vmin=0, vmax=1)\n",
    "    # tidy up axes\n",
    "    ax.set_yticks(np.arange(painting.shape[1]) + .5)\n",
    "    ax.set_yticklabels(range(painting.shape[1]))\n",
    "    ax.set_ylabel('Sample haplotypes')\n",
    "    ax.set_xlabel('Variants')\n",
    "    if title:\n",
    "        ax.set_title(title)"
   ]
  },
  {
   "cell_type": "code",
   "execution_count": 43,
   "metadata": {},
   "outputs": [
    {
     "data": {
      "image/png": "[encoded data removed]",
      "text/plain": [
       "<Figure size 1440x172.8 with 1 Axes>"
      ]
     },
     "metadata": {},
     "output_type": "display_data"
    }
   ],
   "source": [
    "homo_array = np.zeros((homo_ts_muts.num_sites, homo_ts_muts.num_samples))\n",
    "for var_index, var in enumerate(homo_ts_muts.variants()):\n",
    "    homo_array[var_index] = var.genotypes\n",
    "plot_sequence(homo_array)"
   ]
  },
  {
   "cell_type": "code",
   "execution_count": 44,
   "metadata": {},
   "outputs": [
    {
     "data": {
      "image/png": "[encoded data removed]",
      "text/plain": [
       "<Figure size 1440x172.8 with 1 Axes>"
      ]
     },
     "metadata": {},
     "output_type": "display_data"
    }
   ],
   "source": [
    "#SOL:"
   ]
  },
  {
   "cell_type": "markdown",
   "metadata": {},
   "source": [
    "# 3. 3 Pairwise measures of LD"
   ]
  },
  {
   "cell_type": "markdown",
   "metadata": {},
   "source": [
    "<div class=\"alert alert-block alert-info\">\n",
    "    <b>PopGen:</b>\n",
    "Since we generally cannot directly observe the tree sequence underlying a real samples of genomes, measures of LD are generally based on mutations. In the simplest case, we can measure the correlation between a pair of loci using the correlation coefficient:\n",
    "\n",
    "$r^2$ <a href= \"https://en.wikipedia.org/wiki/Linkage_disequilibrium\">(Hill \\& Robertson 1968)</a>\n",
    "    </div>"
   ]
  },
  {
   "cell_type": "markdown",
   "metadata": {},
   "source": [
    "<div class=\"alert alert-block alert-success\">    \n",
    "    <b>Exercise 15:</b> Calculate $r^2$ between the two pairs of mutations you've considered in exercise 12, i.e. 13 and  19 in the <i>D. melanogaster</i> ts?\n",
    "    </div>"
   ]
  },
  {
   "cell_type": "code",
   "execution_count": null,
   "metadata": {},
   "outputs": [],
   "source": [
    "print(dmel_array[13])\n",
    "print(dmel_array[19])"
   ]
  },
  {
   "cell_type": "code",
   "execution_count": 21,
   "metadata": {},
   "outputs": [],
   "source": [
    "#SOL"
   ]
  },
  {
   "cell_type": "markdown",
   "metadata": {},
   "source": [
    "<div class=\"alert alert-block alert-warning\">\n",
    "    <b>Python recipe:</b> We can use <code>LdCalculator()</code> to compute pairwise measures of LD such as $r^2$:\n",
    "    </div>"
   ]
  },
  {
   "cell_type": "code",
   "execution_count": 46,
   "metadata": {},
   "outputs": [
    {
     "data": {
      "text/plain": [
       "0.24999999999999992"
      ]
     },
     "execution_count": 46,
     "metadata": {},
     "output_type": "execute_result"
    }
   ],
   "source": [
    "ld_calc = tskit.LdCalculator(dmel_ts_muts)\n",
    "ld_calc.r2(0, 1)"
   ]
  },
  {
   "cell_type": "markdown",
   "metadata": {},
   "source": [
    "<div class=\"alert alert-block alert-success\">    \n",
    "    <b>Exercise 16:</b> Does <code>r2()</code> give the same answer as your calculation above?\n",
    "    </div>"
   ]
  },
  {
   "cell_type": "code",
   "execution_count": 22,
   "metadata": {},
   "outputs": [],
   "source": [
    "#SOL ld_calc needs two arguments, specifying the pair of mutations\n",
    "#Check whether computing D^2 (and from this r^2 by hand) gives the same result...."
   ]
  },
  {
   "cell_type": "markdown",
   "metadata": {},
   "source": [
    "<div class=\"alert alert-block alert-warning\">\n",
    "    <b>Python recipe:</b> We can use <code>LdCalculator()</code> to efficiently compute the entire matrix of pairwise $r^2$ values:\n",
    "    </div>"
   ]
  },
  {
   "cell_type": "code",
   "execution_count": null,
   "metadata": {},
   "outputs": [],
   "source": [
    "dmel_ld_calc = tskit.LdCalculator(dmel_ts_muts)\n",
    "dmel_A = ld_calc.r2_matrix()\n",
    "\n",
    "# Now plot this matrix (don't worry about the plotting code, it is simply there to visualize the matrix):\n",
    "x = dmel_A.shape[0] / plt.rcParams[\"figure.dpi\"]\n",
    "x = max(x, plt.rcParams[\"figure.figsize\"][0])\n",
    "fig, ax = plt.subplots(figsize=(x, x))\n",
    "fig.tight_layout(pad=0)\n",
    "im = ax.imshow(dmel_A, interpolation=\"none\", vmin=0, vmax=1, cmap=\"Blues\")\n",
    "ax.set_xticks([])\n",
    "ax.set_yticks([])\n",
    "for s in \"top\", \"bottom\", \"left\", \"right\":\n",
    "    ax.spines[s].set_visible(False)\n",
    "plt.gcf().colorbar(im, shrink=0.5, pad=0)\n",
    "plt.savefig(\"ld.svg\")"
   ]
  },
  {
   "cell_type": "markdown",
   "metadata": {},
   "source": [
    "<div class=\"alert alert-block alert-success\">    \n",
    "    <b>Exercise 17:</b> Use this code to plot the matrix of $r^2$ values for the <i>Homo</i> simulation. How does this differ?\n",
    "    </div>"
   ]
  },
  {
   "cell_type": "code",
   "execution_count": null,
   "metadata": {},
   "outputs": [],
   "source": [
    "#SOL Recomputing the matrix of r2 for the homo_ts_muts\n",
    "homo_ld_calc = \n",
    "homo_A = \n",
    "\n",
    "# I am using the same plotting code as above\n",
    "x = homo_A.shape[0] / plt.rcParams[\"figure.dpi\"]\n",
    "x = max(x, plt.rcParams[\"figure.figsize\"][0])\n",
    "fig, ax = plt.subplots(figsize=(x, x))\n",
    "fig.tight_layout(pad=0)\n",
    "im = ax.imshow(homo_A, interpolation=\"none\", vmin=0, vmax=1, cmap=\"Blues\")\n",
    "ax.set_xticks([])\n",
    "ax.set_yticks([])\n",
    "for s in \"top\", \"bottom\", \"left\", \"right\":\n",
    "    ax.spines[s].set_visible(False)\n",
    "plt.gcf().colorbar(im, shrink=0.5, pad=0)\n",
    "plt.savefig(\"ld.svg\")"
   ]
  },
  {
   "cell_type": "markdown",
   "metadata": {},
   "source": [
    "<div class=\"alert alert-block alert-info\">\n",
    "    <b>PopGen: Visualizing the decay of LD</b> \n",
    "\n",
    "When analyzing WGS data, we are often interested in how quickly LD decays with physical distance. We can think about this decay both in terms of the correlations between trees and pairwise summaries.\n",
    "\n",
    "Note that arguments about LD decay are often used to justify treating SNPs (or loci) that are more than some threshold distance apart as unlinked. While this is standard practice in the field (for a lack of better alternative and may be fine for a particular analysis), it is **WRONG!**\n",
    "</div>"
   ]
  },
  {
   "cell_type": "markdown",
   "metadata": {},
   "source": [
    "The code chunk below bins the $r^2$ values in the matrix <code>dmel_A</code> we've defined above by the physical distance between loci:"
   ]
  },
  {
   "cell_type": "code",
   "execution_count": 40,
   "metadata": {},
   "outputs": [],
   "source": [
    "# Extract the list of SNP positions from the ts sites table\n",
    "pos = dmel_ts_muts.tables.sites.position\n",
    "# Sets up a matrix of distances for all pairs of SNPs\n",
    "pos_i, pos_j = np.meshgrid(pos, pos)\n",
    "distance_ij = abs(pos_i-pos_j)\n",
    "# Defines a new array which has distance and r^2 as separate columns\n",
    "dis_r2_arr = np.column_stack((distance_ij.flatten(), dmel_A.flatten()))\n",
    "# Sorts based on the distance column and remove the first len(pos) entries. These are the diagnoal elements\n",
    "# which by definition have distance 0 and r^2=1\n",
    "dis_r2_arr_srtd = dis_r2_arr[np.argsort(dis_r2_arr[:, 0])][len(pos):]\n",
    "# Defining bins of 5 bases\n",
    "dis_bins = np.arange(0,1_000,5)\n",
    "# Binning by distance\n",
    "dis_binned = dis_bins.searchsorted(dis_r2_arr_srtd[:,0])\n",
    "bin_means_r2 = (np.bincount(dis_binned, weights=dis_r2_arr_srtd[:,1]) /\n",
    "             np.bincount(dis_binned, minlength=10))"
   ]
  },
  {
   "cell_type": "markdown",
   "metadata": {},
   "source": [
    "<div class=\"alert alert-block alert-success\">    \n",
    "    <b>Exercise 18:</b> Plot the mean LD (as measured by $r^2$) for each distance bin (<code>bin_means_r2</code>) against distance <code>dis_binned</code>!\n",
    "\n",
    "How does LD decay in <i>D. melanogaster</i> and differ from that in <i>Homo</i>? What is the half-distance of LD? What is the background level of LD?\n",
    "    </div>"
   ]
  },
  {
   "cell_type": "code",
   "execution_count": null,
   "metadata": {
    "scrolled": true
   },
   "outputs": [],
   "source": [
    "#SOL\n",
    "fig, ax = plt.subplots(figsize=(8,8))\n",
    "sns.lineplot(dis_bins, bin_means_r2[:-1], label='The decay of LD')\n",
    "plt.xlabel('bases')\n",
    "plt.ylabel('r^2')\n",
    "plt.show()"
   ]
  }
 ],
 "metadata": {
  "kernelspec": {
   "display_name": "Python 3",
   "language": "python",
   "name": "python3"
  },
  "language_info": {
   "codemirror_mode": {
    "name": "ipython",
    "version": 3
   },
   "file_extension": ".py",
   "mimetype": "text/x-python",
   "name": "python",
   "nbconvert_exporter": "python",
   "pygments_lexer": "ipython3",
   "version": "3.8.3"
  }
 },
 "nbformat": 4,
 "nbformat_minor": 2
}
