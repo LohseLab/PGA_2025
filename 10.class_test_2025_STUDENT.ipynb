{
 "cells": [
  {
   "cell_type": "code",
   "execution_count": 1,
   "id": "ba17cb06",
   "metadata": {
    "nbgrader": {
     "grade": false,
     "grade_id": "cell-9c79a11728202141",
     "locked": true,
     "schema_version": 3,
     "solution": false,
     "task": false
    }
   },
   "outputs": [],
   "source": [
    "import msprime\n",
    "import tskit\n",
    "import numpy as np\n",
    "import pandas as pd\n",
    "import math\n",
    "import allel\n",
    "import demes\n",
    "import demesdraw\n",
    "import seaborn as sns\n",
    "sns.set_theme(style=\"whitegrid\")\n",
    "from IPython.display import SVG, set_matplotlib_formats\n",
    "from IPython.display import Image\n",
    "from matplotlib import pyplot as plt\n",
    "plt.rcParams['figure.figsize'] = [15, 7]\n",
    "%matplotlib inline\n",
    "from collections import Counter\n",
    "import warnings\n",
    "warnings.filterwarnings('ignore')"
   ]
  },
  {
   "cell_type": "markdown",
   "id": "73e56f88",
   "metadata": {
    "nbgrader": {
     "grade": false,
     "grade_id": "cell-8d8a4d367bb8489d",
     "locked": true,
     "schema_version": 3,
     "solution": false,
     "task": false
    }
   },
   "source": [
    "# Practical.10 - assessed class practical"
   ]
  },
  {
   "cell_type": "markdown",
   "id": "5ec5d30d",
   "metadata": {
    "nbgrader": {
     "grade": false,
     "grade_id": "cell-9b25f842bb3adf66",
     "locked": true,
     "schema_version": 3,
     "solution": false,
     "task": false
    }
   },
   "source": [
    "You have **three** hours to complete this practical. You should aim to complete each of the four sections in ~ 45 minutes. Each section is worth 25 points. This practical assesses your understanding of the core data skills and population genetics concepts covered in PGA. \n",
    "\n",
    "**Please read each question carefully!** Some questions require writing or completing code, many simply ask you to write a couple of sentences to explain something. Please use the empty code cells provided for your answers. There are several code cells for multipart questions."
   ]
  },
  {
   "cell_type": "code",
   "execution_count": null,
   "id": "9ae26f32",
   "metadata": {},
   "outputs": [],
   "source": [
    "#Be patient! Fetching the folder takes a minute or so!\n",
    "! wget https://dl.dropboxusercontent.com/scl/fi/9lz2zixvylc34986shym1/p10_data_2025.tar.gz?rlkey=ejzygaaa5mpsjp8z4f3clc6d2 -q --show-progress -O p10_data_2025.tar.gz\n",
    "! tar zxf p10_data_2025.tar.gz"
   ]
  },
  {
   "cell_type": "code",
   "execution_count": null,
   "id": "bafe8201",
   "metadata": {},
   "outputs": [],
   "source": [
    "! ls -lh p10_data/"
   ]
  },
  {
   "cell_type": "markdown",
   "id": "a47fd5dc",
   "metadata": {
    "nbgrader": {
     "grade": false,
     "grade_id": "cell-77477940787e8f82",
     "locked": true,
     "schema_version": 3,
     "solution": false,
     "task": false
    }
   },
   "source": [
    "## 10.1. Describing and interpreting genetic diversity"
   ]
  },
  {
   "cell_type": "markdown",
   "id": "c32dbd7d",
   "metadata": {
    "nbgrader": {
     "grade": false,
     "grade_id": "cell-7af291b9e3fa98ed",
     "locked": true,
     "schema_version": 3,
     "solution": false,
     "task": false
    }
   },
   "source": [
    "The code below imports variant data for $n=6$ individuals from the Southern Scare Swallowtail (*Iphiclides feisthamelii*) from a vcf file for chromosome 5 and summarizes biallelic variants in terms of an array of genotypes. \n",
    "\n",
    "**Note:** *I. feisthamelii* is the sister taxon of *I. podalirius* which we have analysed for the same chromosome in practical 4."
   ]
  },
  {
   "cell_type": "code",
   "execution_count": 3,
   "id": "e3347e02",
   "metadata": {},
   "outputs": [],
   "source": [
    "query_fields = ['samples', 'calldata/GT', 'variants/CHROM', 'variants/POS', 'variants/NUMALT']\n",
    "vcf_f = \"p10_data/iphiclides_podalirius.IP_504.chromosome_5.vcf.gz\"\n",
    "samplesIF =[ 'IF_RVcoll17B439','IF_RVcoll14B411', 'IF_142', 'IF_234.10X', 'IF_165', 'IF_236']"
   ]
  },
  {
   "cell_type": "code",
   "execution_count": 20,
   "id": "69bad470",
   "metadata": {},
   "outputs": [],
   "source": [
    "#It will take a few seconds to read the file, be patient ...\n",
    "vcf_dict = allel.read_vcf(vcf_f, fields=query_fields, samples = samplesIF)\n",
    "numalt_array = vcf_dict['variants/NUMALT']\n",
    "mask_array = (numalt_array == 1)"
   ]
  },
  {
   "cell_type": "code",
   "execution_count": null,
   "id": "f7fa526f",
   "metadata": {},
   "outputs": [],
   "source": [
    "pos = vcf_dict['variants/POS'][mask_array]\n",
    "snp_ga_IF = allel.GenotypeArray(vcf_dict['calldata/GT'])[mask_array]\n",
    "#looking at the genotype array:\n",
    "snp_ga_IF"
   ]
  },
  {
   "cell_type": "markdown",
   "id": "b7a5fbfd",
   "metadata": {
    "nbgrader": {
     "grade": false,
     "grade_id": "practical_10_question_1",
     "locked": true,
     "points": 6,
     "schema_version": 3,
     "solution": false,
     "task": true
    }
   },
   "source": [
    "<div class=\"alert alert-block alert-success\">    \n",
    "<b>Exercise 1 (6 points):</b>\n",
    "    \n",
    "- a) Compute the mean heterozygosity (per base) across these six <i>I. feisthamelii</i> individuals (*Hint:* assume the last variant position is the last base of the chromosome).\n",
    "- b) Given your estimate of the per base heterozygosity and assuming the standard neutral coalescent (without recombination), what is the chance of seeing no variation in a random 50 base region of the <i>I. feisthamelii</i> genome (ignore recombination in this calculation)?\n",
    "    </div>"
   ]
  },
  {
   "cell_type": "code",
   "execution_count": 1,
   "id": "c762d4d5",
   "metadata": {},
   "outputs": [],
   "source": [
    "### ANSWER 1a)"
   ]
  },
  {
   "cell_type": "code",
   "execution_count": 2,
   "id": "dcb45338",
   "metadata": {},
   "outputs": [],
   "source": [
    "### ANSWER 1b)"
   ]
  },
  {
   "cell_type": "markdown",
   "id": "732caf8d",
   "metadata": {
    "nbgrader": {
     "grade": false,
     "grade_id": "practical_10_question_2",
     "locked": true,
     "points": 6,
     "schema_version": 3,
     "solution": false,
     "task": true
    }
   },
   "source": [
    "<div class=\"alert alert-block alert-success\">    \n",
    "<b>Exercise 2 (6 points):</b>\n",
    "    \n",
    " - a) Estimate the mean pairwise genetic diversity (Tajima's $\\pi$) across all sites on chromosome 5. \n",
    " - b) How does $\\pi$ compare to the mean heterozygosity computed in exercise 1? Name one process that may explain the difference between the two measures.\n",
    "    </div>"
   ]
  },
  {
   "cell_type": "code",
   "execution_count": 3,
   "id": "bbfd8b86",
   "metadata": {},
   "outputs": [],
   "source": [
    "### ANSWER 2a)"
   ]
  },
  {
   "cell_type": "code",
   "execution_count": 4,
   "id": "42c83134",
   "metadata": {},
   "outputs": [],
   "source": [
    "### ANSWER 2b) (1-2 sentences)"
   ]
  },
  {
   "cell_type": "markdown",
   "id": "db2b602d",
   "metadata": {
    "nbgrader": {
     "grade": false,
     "grade_id": "practical_10_question_3",
     "locked": true,
     "points": 3,
     "schema_version": 3,
     "solution": false,
     "task": true
    }
   },
   "source": [
    "<div class=\"alert alert-block alert-success\">    \n",
    "<b>Exercise 3 (3 points):</b>\n",
    "    \n",
    "- a) Assuming neutrality and a mutation rate of  $\\mu =2.9 * 10^{-9}$ per base and generation  \n",
    " <a href='https://academic.oup.com/mbe/article/32/1/239/2925597'>(Keightley et al 2013)</a>, what value of effective population size $N_e$ does your estimate of $\\pi$ correspond to? \n",
    "- b) How could you improve your estimate of $N_e$?\n",
    "    </div>"
   ]
  },
  {
   "cell_type": "code",
   "execution_count": 5,
   "id": "8179e818",
   "metadata": {},
   "outputs": [],
   "source": [
    "### ANSWER 3a)"
   ]
  },
  {
   "cell_type": "code",
   "execution_count": 6,
   "id": "8695ab54",
   "metadata": {},
   "outputs": [],
   "source": [
    "### ANSWER 3b) (1-2 sentences)"
   ]
  },
  {
   "cell_type": "markdown",
   "id": "51c6ccb1",
   "metadata": {
    "nbgrader": {
     "grade": false,
     "grade_id": "practical_10_question_4",
     "locked": true,
     "points": 10,
     "schema_version": 3,
     "solution": false,
     "task": true
    }
   },
   "source": [
    "<div class=\"alert alert-block alert-success\">    \n",
    "<b>Exercise 4 (10 points):</b>\n",
    "\n",
    "- a) Use  <a href='https://scikit-allel.readthedocs.io/en/stable/stats/sf.html?highlight=sfs#allel.fold_sfsm' > `sfs_folded`</a> to compute the folded SFS for this sample of *I. feisthamelii* individuals and assign the result to a new variable `sfs_Ifei_array`.\n",
    "     \n",
    "- b) Visually compare the neutral expectation for the folded SFS `neutSFSFolded` (given in the code cell below) to your observation.\n",
    "- c) Which entry of the SFS correponds to genealogical nodes that divide the sample into two subsets of equal size? \n",
    "- d) Name two population genetic processes that could explain the difference between the expected and the observed SFS? How would you assess the relative importance of these?\n",
    "    </div>"
   ]
  },
  {
   "cell_type": "code",
   "execution_count": 7,
   "id": "04879f2b",
   "metadata": {},
   "outputs": [],
   "source": [
    "### ANSWER 4a)"
   ]
  },
  {
   "cell_type": "code",
   "execution_count": 2,
   "id": "ac1f503f",
   "metadata": {},
   "outputs": [],
   "source": [
    "#This function which computes the expected folded SFS for a given sampleSize (i.e. # of diploid individuals)\n",
    "#may be useful\n",
    "def foldedSFS(sampleSize):\n",
    "    neutExp = np.array([1/i for i in range(1,2*sampleSize)])\n",
    "    neutExp /= neutExp.sum()\n",
    "    neutFlipped = np.flip(neutExp)\n",
    "    neutSFSFolded = neutExp + neutFlipped #sum them together for the 'folding'\n",
    "    neutSFSFolded = neutSFSFolded[0:sampleSize] \n",
    "    neutSFSFolded[-1] = neutSFSFolded[-1]/2\n",
    "    return neutSFSFolded"
   ]
  },
  {
   "cell_type": "code",
   "execution_count": 1,
   "id": "fc324133",
   "metadata": {},
   "outputs": [],
   "source": [
    "### ANSWER 4b)"
   ]
  },
  {
   "cell_type": "code",
   "execution_count": 11,
   "id": "c8ec2478",
   "metadata": {},
   "outputs": [],
   "source": [
    "### ANSWER 4c) (one word answer)"
   ]
  },
  {
   "cell_type": "code",
   "execution_count": 12,
   "id": "f75c07d7",
   "metadata": {},
   "outputs": [],
   "source": [
    "### ANSWER 4d) (1-2 sentences)"
   ]
  },
  {
   "cell_type": "markdown",
   "id": "8b69f4cd",
   "metadata": {
    "nbgrader": {
     "grade": false,
     "grade_id": "cell-cd364797c2f56709",
     "locked": true,
     "schema_version": 3,
     "solution": false,
     "task": false
    }
   },
   "source": [
    "# 10.2. Divergence"
   ]
  },
  {
   "cell_type": "markdown",
   "id": "0d04652c",
   "metadata": {
    "nbgrader": {
     "grade": false,
     "grade_id": "cell-35a627a1df0b01da",
     "locked": true,
     "schema_version": 3,
     "solution": false,
     "task": false
    }
   },
   "source": [
    "The code below loads the variant data for BOTH *I. podalirius* and *I. feisthamelii*, filters the data for biallelic sites and computes two population genetic summaries:"
   ]
  },
  {
   "cell_type": "code",
   "execution_count": 20,
   "id": "6854ba05",
   "metadata": {
    "nbgrader": {
     "grade": false,
     "grade_id": "cell-b5195cb7ae92d81b",
     "locked": true,
     "schema_version": 3,
     "solution": false,
     "task": false
    }
   },
   "outputs": [],
   "source": [
    "query_fields = ['samples', 'calldata/GT', 'variants/CHROM', 'variants/POS', 'variants/NUMALT']\n",
    "vcf_f = \"p10_data/iphiclides_podalirius.IP_504.chromosome_5.vcf.gz\""
   ]
  },
  {
   "cell_type": "code",
   "execution_count": 21,
   "id": "d173b08c",
   "metadata": {
    "nbgrader": {
     "grade": false,
     "grade_id": "cell-2d93264cf945cd1b",
     "locked": true,
     "schema_version": 3,
     "solution": false,
     "task": false
    }
   },
   "outputs": [],
   "source": [
    "vcf_dict = allel.read_vcf(vcf_f, fields=query_fields)\n",
    "numalt_array = vcf_dict['variants/NUMALT']\n",
    "mask_array = (numalt_array == 1)\n",
    "samples = vcf_dict['samples']"
   ]
  },
  {
   "cell_type": "code",
   "execution_count": null,
   "id": "c6740ade",
   "metadata": {},
   "outputs": [],
   "source": [
    "specieslabel = [samplename.split('_')[0] for samplename in samples]\n",
    "samples_df = pd.DataFrame({'samples':samples, 'taxon':specieslabel})\n",
    "samples_df"
   ]
  },
  {
   "cell_type": "code",
   "execution_count": 23,
   "id": "df87bff7",
   "metadata": {},
   "outputs": [],
   "source": [
    "pos = vcf_dict['variants/POS'][mask_array]\n",
    "snp_ga = allel.GenotypeArray(vcf_dict['calldata/GT'])[mask_array]"
   ]
  },
  {
   "cell_type": "code",
   "execution_count": 24,
   "id": "64082df6",
   "metadata": {},
   "outputs": [],
   "source": [
    "ipod = samples_df[samples_df.taxon == 'IP'].index\n",
    "ifei = samples_df[samples_df.taxon == 'IF'].index\n",
    "ipod_counts = snp_ga.count_alleles(subpop = ipod, max_allele=1)\n",
    "ifei_counts = snp_ga.count_alleles(subpop = ifei, max_allele=1)"
   ]
  },
  {
   "cell_type": "markdown",
   "id": "d9911134",
   "metadata": {
    "nbgrader": {
     "grade": false,
     "grade_id": "practical_10_question_5",
     "locked": true,
     "points": 17,
     "schema_version": 3,
     "solution": false,
     "task": true
    }
   },
   "source": [
    "<div class=\"alert alert-block alert-success\">    \n",
    "<b>Exercise 5 (17 points):</b>\n",
    "    \n",
    " - a) Compute the mean pairwise diversity in *I. podalirius* and the per site divergence $d_{xy}$ between the two species. \n",
    " - b) What is the net divergence $d_a$ between the two species?\n",
    " - c) What population split time (in years) does this value of $d_a$ correspond to? Assume 3 generations per year, the butterfly mutation rate from exercise 3 and a model of strict divergence without gene flow.    \n",
    " - d) Compare your estimate of the divergence time to that obtained by  <a href='https://onlinelibrary.wiley.com/doi/full/10.1111/mec.15981'>Ebdon et al 2021 (Table 1) </a> for data from the same pair of species using the same assumptions (and calibration). What could explain the difference in estimates? How would recent gene flow between the two species affect these estimates? \n",
    "    </div>"
   ]
  },
  {
   "cell_type": "code",
   "execution_count": 13,
   "id": "2b5a8e32",
   "metadata": {},
   "outputs": [],
   "source": [
    "### ANSWER 5a)"
   ]
  },
  {
   "cell_type": "code",
   "execution_count": 14,
   "id": "78b78fb8",
   "metadata": {},
   "outputs": [],
   "source": [
    "### ANSWER 5b)"
   ]
  },
  {
   "cell_type": "code",
   "execution_count": 15,
   "id": "0fdd22c1",
   "metadata": {},
   "outputs": [],
   "source": [
    "### ANSWER 5c)"
   ]
  },
  {
   "cell_type": "code",
   "execution_count": 16,
   "id": "41f34232",
   "metadata": {},
   "outputs": [],
   "source": [
    "### ANSWER 5d) (3-4 sentences) "
   ]
  },
  {
   "cell_type": "markdown",
   "id": "863dee0f",
   "metadata": {
    "nbgrader": {
     "grade": false,
     "grade_id": "practical_10_question_6",
     "locked": true,
     "points": 8,
     "schema_version": 3,
     "solution": false,
     "task": true
    }
   },
   "source": [
    "<div class=\"alert alert-block alert-success\">    \n",
    "<b>Exercise 6 (8 points):</b>\n",
    "    \n",
    " - a) Describe briefly what the two plots below show. How does the 2nd plot relate to the first?\n",
    " - b) What general conclusion about the speciation history of the two taxa can you draw?  \n",
    " - c) What processes could explain the outliers of extremely low values in the 2nd plot near the start of the chromosome (~ 0 Mb) and around positions 7.3Mb and 13Mb?\n",
    "    </div>"
   ]
  },
  {
   "cell_type": "code",
   "execution_count": 25,
   "id": "56ea6389",
   "metadata": {},
   "outputs": [],
   "source": [
    "fst_ipod_ifei_wins, windows, counts = allel.windowed_patterson_fst(pos, ipod_counts, ifei_counts, size=50_000, start=0, stop=pos[-1])\n",
    "wins1, windows, bases, counts = allel.windowed_diversity(pos, ipod_counts, size=50_000, start=0, stop=pos[-1])\n",
    "wins2, windows, bases, counts = allel.windowed_diversity(pos, ifei_counts, size=50_000, start=0, stop=pos[-1])\n",
    "wins3, windows, bases, counts = allel.windowed_divergence(pos, ipod_counts, ifei_counts, size=50_000, start=0, stop=pos[-1])\n",
    "mid_point = windows.mean(axis=1)/1_000_000\n",
    "window_stats = pd.DataFrame({'fst':fst_ipod_ifei_wins,'wins1':wins1,'wins2':wins2,'wins3':wins3, \"coordinates\":mid_point})"
   ]
  },
  {
   "cell_type": "code",
   "execution_count": null,
   "id": "2c01e948",
   "metadata": {},
   "outputs": [],
   "source": [
    "fig, ax = plt.subplots(figsize=(18,3))\n",
    "sns.lineplot(window_stats[\"coordinates\"], window_stats[\"wins1\"], label='wins1')\n",
    "sns.lineplot(window_stats[\"coordinates\"], window_stats[\"wins2\"], label='wins2')\n",
    "sns.lineplot(window_stats[\"coordinates\"], window_stats[\"wins3\"], label='wins3')\n",
    "plt.xlabel('Mb')\n",
    "plt.show()"
   ]
  },
  {
   "cell_type": "code",
   "execution_count": null,
   "id": "590a427e",
   "metadata": {},
   "outputs": [],
   "source": [
    "fig, ax = plt.subplots(figsize=(18,3))\n",
    "sns.lineplot(window_stats[\"coordinates\"], window_stats[\"fst\"], label='differentiation')\n",
    "plt.xlabel('Mb')\n",
    "plt.show()"
   ]
  },
  {
   "cell_type": "code",
   "execution_count": null,
   "id": "dc0b8092",
   "metadata": {},
   "outputs": [],
   "source": [
    "### ANSWER 6a) (3-4 sentences)"
   ]
  },
  {
   "cell_type": "code",
   "execution_count": null,
   "id": "56980f26",
   "metadata": {},
   "outputs": [],
   "source": [
    "### ANSWER 6b) (1 sentence)"
   ]
  },
  {
   "cell_type": "code",
   "execution_count": null,
   "id": "783741c1",
   "metadata": {},
   "outputs": [],
   "source": [
    "### ANSWER 6c) (2-3 sentences)"
   ]
  },
  {
   "cell_type": "markdown",
   "id": "22c83e20",
   "metadata": {
    "nbgrader": {
     "grade": false,
     "grade_id": "cell-aa2173b3006b5ff0",
     "locked": true,
     "schema_version": 3,
     "solution": false,
     "task": false
    }
   },
   "source": [
    "## 10.3. The effect of a selective sweep on a treesequence"
   ]
  },
  {
   "cell_type": "markdown",
   "id": "ac70875d",
   "metadata": {
    "nbgrader": {
     "grade": false,
     "grade_id": "cell-ada2a2fb6ce6d975",
     "locked": true,
     "schema_version": 3,
     "solution": false,
     "task": false
    }
   },
   "source": [
    "When analysing real data, we can observe genetic variation but have no way of knowing the underlying treesequence directly. In contrast, when simulating population genomic data, we can directly examine the effect selection has on the ancestry at closely-linked sites."
   ]
  },
  {
   "cell_type": "markdown",
   "id": "08997d51",
   "metadata": {
    "nbgrader": {
     "grade": false,
     "grade_id": "practical_10_question_7",
     "locked": true,
     "points": 25,
     "schema_version": 3,
     "solution": false,
     "task": true
    }
   },
   "source": [
    "<div class=\"alert alert-block alert-success\">    \n",
    "<b>Exercise 7 (25 points):</b> \n",
    "Examine the treesequence for the simulation of a 40kb region below to see the effect of a single recent hard selective sweep on the tree sequence around the sweep target.\n",
    "\n",
    " - a) For this sample of four lineages, which node represents the common ancestor carrying the beneficial mutation?\n",
    " - b) What is the age of this node (rounded to an integer)? \n",
    " - c) What is the index of the first tree in which two lineages escape the sweep?   \n",
    " - d) How would changing $s$ to $0.001$ affect the average tree sequence around the sweep site?\n",
    "    </div>"
   ]
  },
  {
   "cell_type": "code",
   "execution_count": null,
   "id": "ac447543",
   "metadata": {},
   "outputs": [],
   "source": [
    "sweepModel2 = msprime.SweepGenicSelection(\n",
    "    position = 0,\n",
    "    start_frequency=1.0/(2*10_000), \n",
    "    end_frequency= 1 - 1.0/(2*10_000), \n",
    "    s=0.1,\n",
    "    dt = 1/(40*10_000)\n",
    ")\n",
    "\n",
    "ts_sel2 = msprime.sim_ancestry(\n",
    "    samples=2,\n",
    "    model=[sweepModel2,msprime.StandardCoalescent()], #simulate the sweep first, followed by standard coalescence\n",
    "    population_size=10_000,\n",
    "    recombination_rate=1e-7,\n",
    "    sequence_length=40_000,\n",
    "    random_seed=12\n",
    ")\n",
    "\n",
    "display(SVG(ts_sel2.draw_svg(y_axis=True,size=(16_000,400),y_ticks=[0,20_000,40_000,60_000,80_000])))"
   ]
  },
  {
   "cell_type": "code",
   "execution_count": 30,
   "id": "3e747a23",
   "metadata": {},
   "outputs": [],
   "source": [
    "### ANSWER 7a) (one word answer)"
   ]
  },
  {
   "cell_type": "code",
   "execution_count": 31,
   "id": "fbfb1972",
   "metadata": {},
   "outputs": [],
   "source": [
    "### ANSWER 7b)"
   ]
  },
  {
   "cell_type": "code",
   "execution_count": 32,
   "id": "3bb11991",
   "metadata": {},
   "outputs": [],
   "source": [
    "### ANSWER 7c) (one word answer)"
   ]
  },
  {
   "cell_type": "code",
   "execution_count": null,
   "id": "ea217866",
   "metadata": {},
   "outputs": [],
   "source": [
    "### ANSWER 7d (2-3 sentence maximum)"
   ]
  },
  {
   "cell_type": "markdown",
   "id": "5162375d-227a-4ffb-8fcb-71d99189c08d",
   "metadata": {
    "nbgrader": {
     "grade": false,
     "grade_id": "cell-41342ec00be2c16f",
     "locked": true,
     "schema_version": 3,
     "solution": false,
     "task": false
    }
   },
   "source": [
    "# 10.4 Signatures of introgression\n",
    "\n",
    "The demographic history of island tortoises from three oceanic islands was estimated based on geological data and fossil records. An historical account tells of the transport of a known number of tortoise eggs by explorers from island 3 to island 2 exactly 50 generations ago. When the eggs hatched, 10% of the population of island 2 was made up of immigrant hatchlings from island 3. This event is included in the illustrated model below as a introgression 'pulse' with with a introgression fraction of 0.1. Tortoises from the three islands interbreed freely in captivity, so we suspect that there will be evidence of this introgression event in the genomes of present-day tortoises."
   ]
  },
  {
   "cell_type": "code",
   "execution_count": 57,
   "id": "2e210d88-149d-430e-83f9-85cc49344ad1",
   "metadata": {
    "nbgrader": {
     "grade": false,
     "grade_id": "cell-d7e9aef2be72ad7d",
     "locked": true,
     "schema_version": 3,
     "solution": false,
     "task": false
    }
   },
   "outputs": [
    {
     "data": {
      "image/png": "[encoded data removed]",
      "text/plain": [
       "<IPython.core.display.Image object>"
      ]
     },
     "execution_count": 57,
     "metadata": {},
     "output_type": "execute_result"
    }
   ],
   "source": [
    "Image(filename=\"p10_data/tortoise_model.png\")"
   ]
  },
  {
   "cell_type": "markdown",
   "id": "b41ce322",
   "metadata": {
    "nbgrader": {
     "grade": false,
     "grade_id": "cell-819523f2d9949127",
     "locked": true,
     "points": 5,
     "schema_version": 3,
     "solution": false,
     "task": true
    }
   },
   "source": [
    "<div class=\"alert alert-block alert-success\">    \n",
    "    <b>Exercise 8a (5 points):</b>\n",
    "\n",
    "Based on the demographic history provided, calculate analytically the expected proportion of the genome in modern day tortoises with topology ((island2, island3), island1). Show your working. [5]\n",
    "\n",
    "</div>"
   ]
  },
  {
   "cell_type": "code",
   "execution_count": null,
   "id": "ec755fe3",
   "metadata": {},
   "outputs": [],
   "source": [
    "### ANSWER 8a"
   ]
  },
  {
   "cell_type": "markdown",
   "id": "109792f8",
   "metadata": {
    "nbgrader": {
     "grade": false,
     "grade_id": "cell-a0aafb34311e0510",
     "locked": true,
     "points": 2,
     "schema_version": 3,
     "solution": false,
     "task": true
    }
   },
   "source": [
    "<div class=\"alert alert-block alert-success\">    \n",
    "    <b>Exercise 8b (2 points):</b>\n",
    "    \n",
    "Why is this value larger than 10% (the proportion of migrant tortoises on island 2)? [2]\n",
    "\n",
    "</div>"
   ]
  },
  {
   "cell_type": "code",
   "execution_count": null,
   "id": "cc78b5ce",
   "metadata": {},
   "outputs": [],
   "source": [
    "### ANSWER 8b"
   ]
  },
  {
   "cell_type": "markdown",
   "id": "2357738e",
   "metadata": {},
   "source": [
    "You have been given genomic data for one individual from each island, as well as an outgroup from a related species. Genotypes for all four individuals were called by aligning reads against the tortoise reference genome.\n",
    "\n",
    "The code below imports the vcf and calcualtes the frequency of the alternate allele for each diploid individual."
   ]
  },
  {
   "cell_type": "code",
   "execution_count": null,
   "id": "04c97d35",
   "metadata": {},
   "outputs": [],
   "source": [
    "#import genotypes from vcf\n",
    "vcf_dict = allel.read_vcf('p10_data/tortoise.prac10.vcf.gz', fields=['CHROM', 'calldata/GT'])\n",
    "\n",
    "#convert to genotypes\n",
    "genotypes = allel.GenotypeArray(vcf_dict['calldata/GT'])\n",
    "\n",
    "#get count of alternate allele for each individual\n",
    "alt_count = genotypes.to_n_alt()\n",
    "\n",
    "#convert to frequency by dividing by two (diploid individuals)\n",
    "alt_frequency = alt_count/2\n",
    "\n",
    "alt_frequency = pd.DataFrame(alt_frequency, columns=[\"island1\", \"island2\", \"island3\", \"outgroup\"])\n",
    "\n",
    "alt_frequency"
   ]
  },
  {
   "cell_type": "markdown",
   "id": "daedc4b8",
   "metadata": {},
   "source": [
    "The code below extracts the chromosome name for each SNP. You do not need to use the chromosomes dataframe, but it's provided in case you want to subset the data."
   ]
  },
  {
   "cell_type": "code",
   "execution_count": null,
   "id": "ccecaad9",
   "metadata": {},
   "outputs": [],
   "source": [
    "#extract chromosome information\n",
    "chromosome = pd.DataFrame(vcf_dict['variants/CHROM'], columns=[\"CHROM\"])\n",
    "\n",
    "chromosome"
   ]
  },
  {
   "cell_type": "markdown",
   "id": "62f1c6bf",
   "metadata": {
    "nbgrader": {
     "grade": false,
     "grade_id": "cell-cc256553dec1034d",
     "locked": true,
     "points": 3,
     "schema_version": 3,
     "solution": false,
     "task": true
    }
   },
   "source": [
    "<div class=\"alert alert-block alert-success\">    \n",
    "    <b>Exercise 9a (3 points):</b>\n",
    "    \n",
    "Assuming the outgroup genotype represents the ancestral state, modify the code below to make a dataframe of polarised allele frequencies. [3]\n",
    "\n",
    "NOTE: If you are unsure of how to answer this question, just run the first code block provided. You will not be penalised in subsequent questions.    \n",
    "</div>"
   ]
  },
  {
   "cell_type": "code",
   "execution_count": 14,
   "id": "9a3efc35",
   "metadata": {
    "nbgrader": {
     "grade": false,
     "grade_id": "cell-39a0ecd271590578",
     "locked": true,
     "schema_version": 3,
     "solution": false,
     "task": false
    }
   },
   "outputs": [],
   "source": [
    "#we make a copy of the dataframe that we will modify to compute the derived frequency\n",
    "#You can always re-run this code block if you make a mistake in the next one\n",
    "derived_frequency = alt_frequency.copy()"
   ]
  },
  {
   "cell_type": "code",
   "execution_count": null,
   "id": "a188c877",
   "metadata": {},
   "outputs": [],
   "source": [
    "#identify sites that need to be 'flipped' as a boolean array\n",
    "sites_to_flip = #ADD YOUR CODE HERE\n",
    "\n",
    "#the code below will flip the allele frequencies at all sites where sites_to_flip == True\n",
    "derived_frequency[sites_to_flip] = 1 - derived_frequency[sites_to_flip] \n",
    "\n",
    "derived_frequency"
   ]
  },
  {
   "cell_type": "markdown",
   "id": "50251dca",
   "metadata": {
    "nbgrader": {
     "grade": false,
     "grade_id": "cell-e45ad30255969ce2",
     "locked": true,
     "points": 4,
     "schema_version": 3,
     "solution": false,
     "task": true
    }
   },
   "source": [
    "<div class=\"alert alert-block alert-success\">\n",
    "    <b>Exercise 9b (4 points):</b>\n",
    "    \n",
    "Using the polarised allele frequencies, estimate the proportion ($f$) of island 2 tortoise genomes made up of introgressed alleles from island 3 tortoises. [4]\n",
    "    \n",
    "</div>"
   ]
  },
  {
   "cell_type": "code",
   "execution_count": null,
   "id": "791f97d7",
   "metadata": {},
   "outputs": [],
   "source": [
    "#ANSWER 9b"
   ]
  },
  {
   "cell_type": "markdown",
   "id": "c922a621",
   "metadata": {
    "nbgrader": {
     "grade": false,
     "grade_id": "cell-972667dd84c6cff7",
     "locked": true,
     "points": 8,
     "schema_version": 3,
     "solution": false,
     "task": true
    }
   },
   "source": [
    "<div class=\"alert alert-block alert-success\">    \n",
    "    <b>Question 10a (8 points):</b>\n",
    "    \n",
    "Provide two hypotheses that could explain the discrepancy between the estimated admixture proportion and the expected value based on the number of tortoises that were moved between the islands. [Your mark for this question will not depend on whether your answer for the previous question is correct.] [8]\n",
    "    \n",
    "</div>"
   ]
  },
  {
   "cell_type": "code",
   "execution_count": null,
   "id": "bad9c822",
   "metadata": {},
   "outputs": [],
   "source": [
    "#ANSWER 10a"
   ]
  },
  {
   "cell_type": "markdown",
   "id": "4f4edbce",
   "metadata": {
    "nbgrader": {
     "grade": false,
     "grade_id": "cell-6d76d66467c5c8d2",
     "locked": true,
     "points": 3,
     "schema_version": 3,
     "solution": false,
     "task": true
    }
   },
   "source": [
    "<div class=\"alert alert-block alert-success\">\n",
    "        <b>Question 10b (3 points):</b>\n",
    "\n",
    "For one of your hypotheses above, explain how genomic data could be used to test the hypothesis. [3]\n",
    "    \n",
    "</div>"
   ]
  },
  {
   "cell_type": "code",
   "execution_count": null,
   "id": "8724df9c",
   "metadata": {},
   "outputs": [],
   "source": [
    "#ANSWER 10b"
   ]
  }
 ],
 "metadata": {
  "celltoolbar": "Create Assignment",
  "kernelspec": {
   "display_name": "Python 3",
   "language": "python",
   "name": "python3"
  },
  "language_info": {
   "codemirror_mode": {
    "name": "ipython",
    "version": 3
   },
   "file_extension": ".py",
   "mimetype": "text/x-python",
   "name": "python",
   "nbconvert_exporter": "python",
   "pygments_lexer": "ipython3",
   "version": "3.8.3"
  }
 },
 "nbformat": 4,
 "nbformat_minor": 5
}
