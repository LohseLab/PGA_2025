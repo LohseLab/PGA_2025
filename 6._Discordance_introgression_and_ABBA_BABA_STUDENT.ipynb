{
 "cells": [
  {
   "cell_type": "markdown",
   "id": "1daf0fc0-a409-49a6-bd9a-9379f8579b2b",
   "metadata": {},
   "source": [
    "---\n",
    "# PGA 2025 Practical 6:\n",
    "# Discordance, gene flow and ABBA BABA\n",
    "---\n",
    "\n",
    "This practical consists of two parts:\n",
    "* A **learning** part that includes class discussions and 8 excercise.\n",
    "* An **assessed** part consisting of 7 exercises\n",
    "\n",
    "At the end of learning part you should\n",
    "\n",
    "* Understand how and why the shape (topology) of genealogies changes along the genome\n",
    "    * The concept of incomplete lineage sorting\n",
    "    * The effect of population size and split time on discordance\n",
    "    * The effect of gene flow on discordance\n",
    "\n",
    "\n",
    "* Know how to perform and analyse multiple-population simulations\n",
    "    * Defining simulation models\n",
    "    * Analysing tree sequences and genealogy shapes\n",
    "\n",
    "\n",
    "* Understand how mutation patterns (\"ABBA\" and \"BABA\") provide evidence for gene flow\n",
    "    * Write python functions to compute these summaries\n",
    "    * Understand the difference between the *D* statistic and the proportion of introgression *f*\n"
   ]
  },
  {
   "cell_type": "markdown",
   "id": "d405f64f-3751-42d0-b560-c16466dab753",
   "metadata": {},
   "source": [
    "### Preparation\n",
    "\n",
    "Download the folder containing data files necessary for this project and unzip.\n",
    "This may take a few minutes because it's a big dataset.\n",
    "Note these commands start with the `!` symbol because they are bash commands."
   ]
  },
  {
   "cell_type": "code",
   "execution_count": null,
   "id": "e3752e0c-233b-4de2-865c-dc5eaa113515",
   "metadata": {},
   "outputs": [],
   "source": [
    "#download\n",
    "!wget --no-check-certificate 'https://www.dropbox.com/scl/fi/2fziv3qlk83ufy6wpssb5/Prac6_data_2024.zip?rlkey=bx3mj62edf7uyjp199j83j5np&dl=0' -q -O Prac6_data_2024.zip\n",
    "\n",
    "#unzip\n",
    "!unzip Prac6_data_2024.zip"
   ]
  },
  {
   "cell_type": "markdown",
   "id": "b7876701-c008-4224-93ec-7d190b7e0ded",
   "metadata": {},
   "source": [
    "Import the necessary python packages."
   ]
  },
  {
   "cell_type": "code",
   "execution_count": null,
   "id": "4a24c3b6-efbc-4ba7-b837-69c90acf7157",
   "metadata": {},
   "outputs": [],
   "source": [
    "import math\n",
    "import msprime\n",
    "import tskit\n",
    "import demes\n",
    "import demesdraw\n",
    "import numpy as np\n",
    "import allel\n",
    "import pandas as pd\n",
    "import seaborn as sns\n",
    "import matplotlib.pyplot as plt\n",
    "from collections import defaultdict\n",
    "from IPython.display import SVG, set_matplotlib_formats"
   ]
  },
  {
   "cell_type": "markdown",
   "id": "b8bc99df-b86f-49a2-8f4f-82cfb5959a91",
   "metadata": {},
   "source": [
    "---\n",
    "# 1. Genealogical discordance\n",
    "\n",
    "## 1.1 Tree topologies\n",
    "\n",
    "To start thinking about the shape (topology) of genealogies, we will start with the simplest possible case, where we have just three leaves."
   ]
  },
  {
   "cell_type": "markdown",
   "id": "aa8705c3-b84f-49f3-abe1-974e5158e7e0",
   "metadata": {},
   "source": [
    "### 1.1.1 All possible topologies for a tree with three leaves\n",
    "\n",
    "For a given set of tip labels, there is a limited number of tree topologies.\n",
    "\n",
    "`tskit` provides the [`all_trees()`](https://tskit.dev/tskit/docs/stable/python-api.html?highlight=all_trees#tskit.all_trees) function to generates all possible tree topologies for a given number of leaves.\n",
    "\n",
    "We want to give each topology a unique ID code so we can count how many times we see each one. We will use the [`rank()`](https://tskit.dev/tskit/docs/stable/python-api.html#tskit.Tree.rank) function of `tskit` for this. Note that this tree ID code does not consider branch lengths, so all trees with the same **topology** (shape) will have the same ID.\n"
   ]
  },
  {
   "cell_type": "code",
   "execution_count": null,
   "id": "45ab604f-4625-48b2-9fab-f64f5bf77aed",
   "metadata": {},
   "outputs": [],
   "source": [
    "#generate all possible topologies and store as tskit tree objects\n",
    "topos = tskit.all_trees(3)\n",
    "\n",
    "#visualise and report the rank (unique ID code) of each tree topology\n",
    "for t in topos:\n",
    "    ID = t.rank()\n",
    "    print(\"\\n\\nTopology ID:\", ID)\n",
    "    print(\"Newick format:\", t.newick(node_labels={0: 0, 1: 1, 2: 2}, include_branch_lengths=False))\n",
    "    display(SVG(t.draw(node_labels={0: 0, 1: 1, 2: 2})))"
   ]
  },
  {
   "cell_type": "markdown",
   "id": "0d8960f9-7972-497c-a0a2-c49da39ce351",
   "metadata": {},
   "source": [
    "So there are **four** possible topologies for a tree with three leaves. The first one has a **multifurcation** (also called a polytomy) (>2 banches from a single node), the rest have only **bifurcations**.\n",
    "\n",
    "The ID code returned by the `tree.rank()` function is always a tuple with two integers. in this case: `(0,0)`, `(1,0)`, `(1,1)` and `(1,2)`. The first value corresponds to the shape of the tree and the second to the order of the leaf labels.\n",
    "\n",
    "**We will be using these ID codes below to identify the shape of each genealogy along the genome in simulated treesequences**, and thereby compare the **abundance** of different topologies.\n",
    "\n",
    "Because the ID codes from `tskit` are not very easy to remember, we will create a dictionary that allows us to convert the ID code to a [newick format](https://en.wikipedia.org/wiki/Newick_format) tree.\n"
   ]
  },
  {
   "cell_type": "code",
   "execution_count": null,
   "id": "888031d7-2211-48cd-bf7e-d531a0099c3b",
   "metadata": {},
   "outputs": [],
   "source": [
    "#make an empty dictionary\n",
    "treeID_to_nwk = {}\n",
    "\n",
    "#for each tree, get the ID and the newick string and add to the dictionary\n",
    "for t in tskit.all_trees(3):\n",
    "    ID = t.rank()\n",
    "    nwk_string = t.newick(node_labels={0: 0, 1: 1, 2: 2}, include_branch_lengths=False)\n",
    "    treeID_to_nwk[ID]=nwk_string\n",
    "\n",
    "#look at the dictionary to ensure it makes sense\n",
    "treeID_to_nwk"
   ]
  },
  {
   "cell_type": "markdown",
   "id": "6c4ef974-00a0-47a4-beb4-5720fb8b676c",
   "metadata": {},
   "source": [
    "Make sure you understand how newick format relates to the shape of a tree. For example, can you see how `(2,(0,1));` and `((0,1),2);` have the same topology?\n",
    "\n",
    "Under standard coalescent theory, the probability of a multifurcation (more than two lineages coalesce in a single generation) is usually negligable. Therefore standard coalescent simulations only produce bifurcating trees. We will therefore not encounter the first topology `(0,1,2);` in this practical."
   ]
  },
  {
   "cell_type": "markdown",
   "id": "0ad413bb-170d-4e6f-bfb7-906b452fac97",
   "metadata": {
    "tags": []
   },
   "source": [
    "### 1.1.2 The probability of each topology in a bifurcating species tree"
   ]
  },
  {
   "cell_type": "markdown",
   "id": "2dbd16f2-9831-4987-b56d-e679156ea6b8",
   "metadata": {},
   "source": [
    "<div class=\"alert alert-block alert-info\">\n",
    "    <b>Popgen: Topology likelihoods</b> \n",
    "    \n",
    "In Lecture 6 we saw that, under a **species tree** with topology `(2,(0,1))`, the likelihood of the three topologies **for genealogies** are: \n",
    "\n",
    "$$Pr[(2,(0,1))] = \\frac{1}{3} e^{-t/2N} + (1-e^{-t/2N}) $$\n",
    "\n",
    "$$Pr[(1,(0,2))] = \\frac{1}{3} e^{-t/2N} $$\n",
    "\n",
    "$$Pr[(0,(1,2))] = \\frac{1}{3} e^{-t/2N} $$\n",
    "\n",
    "\n",
    "Where $t$ refers to the length of the branch ancestral to poulations 0 and 1, and $N$ the effective population size of this population.\n",
    "\n",
    "Thus, we always expect the species topology `(2,(0,1))` to be as common or more common than each of the two discordant topologies (<b>in the absence of gene flow</b>).\n",
    "    </div>"
   ]
  },
  {
   "cell_type": "markdown",
   "id": "3af15d0a-20ca-432a-b8ba-275034ef3dd7",
   "metadata": {},
   "source": [
    "## 1.2 Simulations\n",
    "\n",
    "Now we will test our understanding of discordant genealogies using simulations.\n",
    "\n",
    "### 1.2.1 Setting up the demographic model\n",
    "\n",
    "We will run coalescent simulations in `msprime`. This allows any number of samples and complex demographic histories.\n",
    "\n",
    "Our underlying model has three populations (or species) with the relationship ((X, Y), Z).\n",
    "\n",
    "Branches in a **species tree** represent populations. To set up a species tree, we need to know how many populations existed in each time period (also called an epoch). Ours has the following branches:\n",
    "- 3 branches in the present day: X, Y and Z\n",
    "- 1 'internal' branch, ancestral to X and Y\n",
    "- 1 'ancestral' branch ancestral to X, Y and Z\n",
    "- 2 split times:\n",
    "    - The time at which the ancestor of X and Y splits to produce X and Y\n",
    "    - The time at which the deep ancestor splits to produce Z and the XY ancestor\n",
    "\n",
    "To simplify setting up the demographic model, we will use the package [`demes`](https://popsim-consortium.github.io/demes-docs/latest/introduction.html).\n",
    "\n",
    "Our model is generated ***inside*** **a python function**, which returns a [`demes.Graph`](https://popsim-consortium.github.io/demes-docs/latest/api.html#working-with-demes-graphs) object. This is a useful way to set up a simulation model if you intend to run it multiple times and modify parameters. Our function will allow us to set the sizes of each of the populations, and the split times.\n"
   ]
  },
  {
   "cell_type": "code",
   "execution_count": null,
   "id": "959c34ad-877f-4051-8d5f-f6bb28098da9",
   "metadata": {},
   "outputs": [],
   "source": [
    "#demographic model. Tree has shape ((X,Y),Z))\n",
    "def three_pop_model(N_X=1e4, N_Y=1e4, N_Z=1e4,     #population sizes of X, Y and Z\n",
    "                    N_XY=1e4, N_XYZ=1e4,           #population sizes for ancestral populations\n",
    "                    t_XY=2e4, t_XYZ=4e4):         #split times\n",
    "    \n",
    "    #Make a 'deme builder' object to set up the demographic history\n",
    "    b = demes.Builder(time_units=\"generations\")\n",
    "    #add the branches IN ORDER from the past to the present\n",
    "    b.add_deme(\"XYZanc\",                      epochs=[{\"start_size\":N_XYZ, \"end_time\":t_XYZ}])\n",
    "    b.add_deme(\"XYanc\", ancestors=[\"XYZanc\"], epochs=[{\"start_size\":N_XY,  \"end_time\":t_XY}])\n",
    "    b.add_deme(\"X\",     ancestors=[\"XYanc\"],  epochs=[{\"start_size\":N_X}])\n",
    "    b.add_deme(\"Y\",     ancestors=[\"XYanc\"],  epochs=[{\"start_size\":N_Y}])\n",
    "    b.add_deme(\"Z\",     ancestors=[\"XYZanc\"], epochs=[{\"start_size\":N_Z}])\n",
    "    \n",
    "    graph = b.resolve()\n",
    "    \n",
    "    return(graph)"
   ]
  },
  {
   "cell_type": "markdown",
   "id": "9bd5d29a-7559-4dee-876d-7321360963e0",
   "metadata": {},
   "source": [
    "Note that running the code in the above cell does not produce an output. It just saves the function, ready for us to use whenever we need it below.\n",
    "\n",
    "We can call our function to generate a model graph object, and we can then make a pretty visualisation of this using the [`tubes()`](https://grahamgower.github.io/demesdraw/latest/quickstart.html#demes-as-tubes) function of `demesdraw`."
   ]
  },
  {
   "cell_type": "code",
   "execution_count": null,
   "id": "5813520a-22c5-410c-86e9-97bffaa953c4",
   "metadata": {},
   "outputs": [],
   "source": [
    "#Save the demographic model as a demes.Graph object.\n",
    "model_graph = three_pop_model()\n",
    "\n",
    "#Check that the model we have defined looks right using the demesdraw tool\n",
    "demesdraw.tubes(model_graph, title = \"Three population model\")"
   ]
  },
  {
   "cell_type": "markdown",
   "id": "4f02658b-0dba-4ade-a285-b3d5a08df9da",
   "metadata": {},
   "source": [
    "Given the formulae above, we can calculate the expected frequency of genealogies with the species tree topology and the discordant topologies given the parameters of our model. Ne was set to 10,000 (and we will assume **haploid** individuals) and the length of the internal branch was 20,000 generations."
   ]
  },
  {
   "cell_type": "code",
   "execution_count": null,
   "id": "e4c6f008-5518-4bf7-8014-f6080a4da469",
   "metadata": {},
   "outputs": [],
   "source": [
    "freq_species = (1/3)*math.e**(-20000/10000) + (1 - math.e**(-20000/10000))\n",
    "freq_discordant = (1/3)*math.e**(-20000/10000)\n",
    "\n",
    "print(f\"The expected frequency of genealogies with the species topology is {freq_species}\")\n",
    "\n",
    "print(f\"The expected frequency of genealogies with each discordant topology is {freq_discordant}\")"
   ]
  },
  {
   "cell_type": "markdown",
   "id": "8b477d41-5356-42b6-9009-17c7633b1f7a",
   "metadata": {},
   "source": [
    "### 1.2.2 Simulating a treesequence\n",
    "\n",
    "Now we simulate our first treesequence. We will assume a 10 million bp region of the genome, with a recombination rate of 2e-8. Note that we have to tell msprime to use the demographic model graph that we made."
   ]
  },
  {
   "cell_type": "code",
   "execution_count": null,
   "id": "a9dd7ce3-dc75-433c-9628-36f598b4d462",
   "metadata": {},
   "outputs": [],
   "source": [
    "#simulate a treesequence with three haploid individuals\n",
    "ts = msprime.sim_ancestry(samples={\"X\": 1, \"Y\": 1, \"Z\":1},      #tell msprime to sample one individual from each population\n",
    "                          demography = msprime.Demography.from_demes(model_graph), #tell msprime to use the demographic model we created\n",
    "                          sequence_length = 10e6, recombination_rate = 2e-8, ploidy=1, random_seed=123) #other simulation parameters\n",
    "\n",
    "print(f\"This treesequence has {ts.num_trees} trees.\")"
   ]
  },
  {
   "cell_type": "markdown",
   "id": "544812c1-7b74-4a5b-b59c-47b4fee6929f",
   "metadata": {},
   "source": [
    "We can take a look at the first tree to confirm we have just three leaves"
   ]
  },
  {
   "cell_type": "code",
   "execution_count": null,
   "id": "d062c254-218c-4b08-9254-4cc83358294c",
   "metadata": {},
   "outputs": [],
   "source": [
    "SVG(ts.first().draw_svg())"
   ]
  },
  {
   "cell_type": "markdown",
   "id": "0531fe96-3425-4526-aec0-8f942f1388b4",
   "metadata": {},
   "source": [
    "A treesequence simulated in msprime carries information about which population each individual was sampled from. We can therefore check to confirm that `0` comes from population `X`, `1` from population `Y` and `2` from `Z`."
   ]
  },
  {
   "cell_type": "code",
   "execution_count": null,
   "id": "42dc8ed0-e3bc-4277-9d3e-b980dde30480",
   "metadata": {},
   "outputs": [],
   "source": [
    "for s in ts.samples():\n",
    "    pop_number = ts.get_population(s)\n",
    "    pop_name = ts.populations()[pop_number].metadata[\"name\"]\n",
    "    print(f\"Sample {s} is from population {pop_number}, which is named {pop_name}.\")"
   ]
  },
  {
   "cell_type": "markdown",
   "id": "69d92f77-d87d-46ef-9f02-ea1df7771285",
   "metadata": {},
   "source": [
    "Note that each population has a number as well as a 'name', which we gave it in the simulation. The population *number* depends on the *order* in which they appear in the demographic model, whereas the **name** is **defined by us** in the demographic model."
   ]
  },
  {
   "cell_type": "markdown",
   "id": "704484b1-5340-4d3d-963c-0b2daf85ce4a",
   "metadata": {},
   "source": [
    "## 1.3 The abundance of different topologies in a treesequence\n",
    "\n",
    "Now we would like to know how many of the genealogies along our treesequence represent each of the three possible topologies:\n",
    "\n",
    "`(2,(0,1))` = `((X,Y),Z)` is the **species tree** topology.\n",
    "\n",
    "`(1,(0,2))` = `((X,Z),Y)` **is discordant** with the species tree topology.\n",
    "\n",
    "`(0,(1,2))` = `((Y,Z),X)` **is discordant** with the species tree topology.\n"
   ]
  },
  {
   "cell_type": "markdown",
   "id": "893da497-5985-4e1c-a704-3f299391a96e",
   "metadata": {},
   "source": [
    "### 1.3.1 Counting topologies in the treesequence\n",
    "\n",
    "We will iterate over the treesequence and for each topology, we get its ID (using the `rank()` function), convert it to newick format for convenience, and then add it to the appropriate list.\n"
   ]
  },
  {
   "cell_type": "code",
   "execution_count": null,
   "id": "0a028462-bb93-40e9-8182-62890455d662",
   "metadata": {},
   "outputs": [],
   "source": [
    "#a dictionary to record which trees correspond to each topology\n",
    "topo_matches = {'(2,(0,1));':[],\n",
    "                '(1,(0,2));':[],\n",
    "                '(0,(1,2));':[]}\n",
    "\n",
    "# for each tree, we add its index to the appropriate list based on its rank\n",
    "for i,tree in enumerate(ts.trees()):\n",
    "    nwk_string = treeID_to_nwk[tree.rank()] #convert the tree's rank to a newick string\n",
    "    topo_matches[nwk_string].append(i) #record this tree in the dictionary\n",
    "\n",
    "#Print the number of each topology type\n",
    "for nwk_string in ['(2,(0,1));', '(1,(0,2));', '(0,(1,2));']:\n",
    "    n = len(topo_matches[nwk_string])\n",
    "    print(f\"\\nThere are {n} trees with topology {nwk_string}.\")"
   ]
  },
  {
   "cell_type": "markdown",
   "id": "430b52ee-715b-4fc5-b3a5-b2e314dc8bea",
   "metadata": {},
   "source": [
    "<div class=\"alert alert-block alert-success\">    \n",
    "    <b>Exercise 1:</b>  \n",
    "\n",
    "Use python code to compute the proportion of trees that match each of the three topologies. Do these match our expectations?\n",
    "    \n",
    "\n",
    "<b>Hint:</b> The total number of trees in the treesequence can be retrieved with (`ts.num_trees`).\n",
    "    </div>"
   ]
  },
  {
   "cell_type": "code",
   "execution_count": null,
   "id": "a14ff5cb-304b-4763-b103-31c3b17f7fcb",
   "metadata": {},
   "outputs": [],
   "source": [
    "#SOLUTION:\n",
    "for nwk_string in ['(2,(0,1));', '(1,(0,2));', '(0,(1,2));']:\n",
    "    proportion_of_trees = ### ADD YOUR CODE HERE ###\n",
    "    print(f\"\\nThe proportion of trees with topology {nwk_string} is {proportion_of_trees}\")"
   ]
  },
  {
   "cell_type": "markdown",
   "id": "846c72ff-3bc6-4c37-9693-c0f408ddd1e5",
   "metadata": {},
   "source": [
    "### 1.3.2 The proportion of the genome that is discordant\n",
    "\n",
    "It is important to note that the proportion of discordant genealogies is **not** the same as the **proportion of the genome that is discordant with the species tree.**\n",
    "\n",
    "You will recall from Practical 3 that the lengths (or spans) of tracts with different genealogies are not all equal, so to calculate the total length of genome with a given topology, we need to sum the **spans** of all the corresponding trees.\n",
    "\n",
    "We use a similar approach to above, using a python dictionary to store the span of each tree with each rank."
   ]
  },
  {
   "cell_type": "code",
   "execution_count": null,
   "id": "aebf7603-4f0c-4c22-a1df-d148641a6318",
   "metadata": {},
   "outputs": [],
   "source": [
    "#a dictionary to record the tree spans each topology\n",
    "tree_spans = {'(2,(0,1));':[],\n",
    "              '(1,(0,2));':[],\n",
    "              '(0,(1,2));':[]}\n",
    "\n",
    "# for each tree, we add its span to the appropriate list based on its rank\n",
    "for i,tree in enumerate(ts.trees()):\n",
    "    nwk_string = treeID_to_nwk[tree.rank()]\n",
    "    tree_spans[nwk_string].append(tree.span)\n",
    "\n",
    "# Print the number of bp corresponding to each topology\n",
    "for nwk_string in ['(2,(0,1));', '(1,(0,2));', '(0,(1,2));']:\n",
    "    total_span = sum(tree_spans[nwk_string])\n",
    "    print(f\"\\nTrees with topology {nwk_string} total {total_span} bp.\")"
   ]
  },
  {
   "cell_type": "markdown",
   "id": "68502b76-9b3e-4c08-a346-c8ccad6f5948",
   "metadata": {},
   "source": [
    "<div class=\"alert alert-block alert-success\">    \n",
    "    <b>Exercise 2:</b>\n",
    "    \n",
    "Use python code to retrieve the tree spans from the `tree_spans` dictionary and compute the **proportion** of the genome made up of discordant genealogies.\n",
    "\n",
    "**Hint:** The total length of sequence can be retrieved using `ts.sequence_length`\n",
    "    </div>"
   ]
  },
  {
   "cell_type": "code",
   "execution_count": null,
   "id": "3eac5492-718a-4cc5-a638-4f8636a662b0",
   "metadata": {},
   "outputs": [],
   "source": [
    "#SOLUTION\n",
    "for nwk_string in ['(2,(0,1));', '(1,(0,2));', '(0,(1,2));']:\n",
    "    proportion_of_genome = ### ADD YOUR CODE HERE ###\n",
    "    print(f\"\\nThe proportion of genome with topology {nwk_string} is {proportion_of_genome}\")"
   ]
  },
  {
   "cell_type": "markdown",
   "id": "e15ab4a4-e637-468b-9183-976b21c60511",
   "metadata": {},
   "source": [
    "<div class=\"alert alert-block alert-success\">    \n",
    "    <b>Class discussion:</b>\n",
    "    \n",
    "Why do we see genealogies that are discordant with the species tree under which we ran our simulations?\n",
    "\n",
    "Why is the proportion of the genome that is discordant lower than the proportion of *genealogies* that are discordant?\n",
    "    </div>"
   ]
  },
  {
   "cell_type": "markdown",
   "id": "da4e8b96-0e0c-4a5c-804e-20eb76ca642e",
   "metadata": {},
   "source": [
    "<div class=\"alert alert-block alert-success\">    \n",
    "    <b>Exercise 3:</b>  \n",
    "Test the logic we have just discussed by calculating the mean span of each tree topology.\n",
    "\n",
    "**Hint:** You can use the `np.mean()` function.\n",
    "    </div>"
   ]
  },
  {
   "cell_type": "code",
   "execution_count": null,
   "id": "fd1f47fb-3c41-4cc7-9655-2e014c2f29cc",
   "metadata": {},
   "outputs": [],
   "source": [
    "#SOLUTION:\n",
    "for nwk_string in ['(2,(0,1));', '(1,(0,2));', '(0,(1,2));']:\n",
    "    mean_span = ### ADD YOUR CODE HERE ###\n",
    "    print(f\"The average span of trees with topology {nwk_string} is {mean_span} bp\")"
   ]
  },
  {
   "cell_type": "markdown",
   "id": "c73281bc-20b1-41ad-b28e-a0ea1fe13bd9",
   "metadata": {},
   "source": [
    "<div class=\"alert alert-block alert-success\">    \n",
    "    <b>Exercise 4:</b>\n",
    "\n",
    "Using code blocks from above, write a python **function** called `get_topology_proportions()`, which takes one input (`ts`) and prints the number of bp for each topology and the proportion of the genome that is discordant. Run the function to confirm that it works.\n",
    "    </div>"
   ]
  },
  {
   "cell_type": "code",
   "execution_count": null,
   "id": "8ed7b05c-0d2a-4c7e-97a8-85064a8671c8",
   "metadata": {},
   "outputs": [],
   "source": [
    "#SOLUTION:\n",
    "def get_topology_proportions(ts):\n",
    "    \n",
    "    #Make a dictionary to record the tree spans each topology\n",
    "    ### ADD YOUR CODE HERE ###\n",
    "    \n",
    "    # for each tree, we add its span to the appropriate list based on its rank\n",
    "    ### ADD YOUR CODE HERE ###\n",
    "    \n",
    "    #for each topology, get the sum of spans and divide by total sequence length, and print\n",
    "    ### ADD YOUR CODE HERE ###\n",
    "\n",
    "\n",
    "#test that the function works\n",
    "get_topology_proportions(ts)"
   ]
  },
  {
   "cell_type": "markdown",
   "id": "6cbfc0a5-382a-4d7a-a4d5-8bf95f494645",
   "metadata": {},
   "source": [
    "---\n",
    "# 2. Exploring factors that affect the extent of discordance\n",
    "\n",
    "We have generated a pipeline to determine the proportion of the genome that is discordant under a given simulation model. We will now explore the effects of various modifications to the model to test theoretical predictions.\n",
    "\n",
    "## 2.1 Factors that alter the extent of incomplete lineage sorting\n",
    "\n",
    "### 2.1.1 Effect of population size\n"
   ]
  },
  {
   "cell_type": "markdown",
   "id": "c1b80a07-c984-42e2-b07a-c74e12682492",
   "metadata": {},
   "source": [
    "<div class=\"alert alert-block alert-success\">    \n",
    "    <b>Exercise 5:</b>\n",
    "\n",
    "What effect does **decreasing** or **increasing** the size of each population have on the proportion of discordant trees?\n",
    "\n",
    "The code here is provided for you. All you need to do is change the population size parameter(s) in creating the model_graph object.\n",
    "    </div>"
   ]
  },
  {
   "cell_type": "code",
   "execution_count": null,
   "id": "9c92a0d7-66a0-4479-8d49-092cf152a008",
   "metadata": {},
   "outputs": [],
   "source": [
    "#Save the demographic model as a demes.Graph object.\n",
    "model_graph = three_pop_model(N_X=2e4)\n",
    "\n",
    "#Check that the model we have defined looks right using the demesdraw tool\n",
    "demesdraw.tubes(model_graph, title = \"Three population model with enlarged X population\")\n",
    "\n",
    "#simulate a treesequence with three haploid individuals\n",
    "ts = msprime.sim_ancestry(samples={\"X\": 1, \"Y\": 1, \"Z\":1},      #tell msprime to sample one individual from each population\n",
    "                          demography = msprime.Demography.from_demes(model_graph), #tell msprime to use the demographic model we created\n",
    "                          sequence_length = 10e6, recombination_rate = 2e-8, ploidy=1, random_seed=123) #other simulation parameters\n",
    "\n",
    "print(f\"This treesequence has {ts.num_trees} trees.\")\n",
    "\n",
    "#compute proportions for each topology:\n",
    "get_topology_proportions(ts)"
   ]
  },
  {
   "cell_type": "markdown",
   "id": "80759af2",
   "metadata": {},
   "source": [
    "#### Excercise 5 answer:"
   ]
  },
  {
   "cell_type": "markdown",
   "id": "a20bdfa1-5c0a-4d68-8472-49d2a40e801d",
   "metadata": {},
   "source": [
    "### 2.1.2 Effect of split times\n"
   ]
  },
  {
   "cell_type": "markdown",
   "id": "15c2fdd6-5a22-4a50-8b9e-ad6bab70ace1",
   "metadata": {},
   "source": [
    "<div class=\"alert alert-block alert-success\">    \n",
    "    <b>Exercise 6:</b>\n",
    "What effect does altering the split times have on the proportion of discordant trees, and why?\n",
    "\n",
    "**Hint:** Copy the code given to you in exercise 5 as a starting point. Remember that we set default split times of `t_XY=2e4`, and `t_XYZ=4e4`.\n",
    "    </div>"
   ]
  },
  {
   "cell_type": "code",
   "execution_count": null,
   "id": "ca1a3717-a66c-4ed1-8f56-ee4be71480a0",
   "metadata": {},
   "outputs": [],
   "source": [
    "# SOLUTION:\n",
    "### add your code here:"
   ]
  },
  {
   "cell_type": "markdown",
   "id": "3ea17ef3",
   "metadata": {},
   "source": [
    "#### Exercise 6 answer:"
   ]
  },
  {
   "cell_type": "markdown",
   "id": "8dabc537",
   "metadata": {},
   "source": [
    "<div class=\"alert alert-block alert-success\">    \n",
    "    <b>Class discussion:</b>\n",
    "\n",
    "Which population size and which split times affect the level of discordance? Why?\n",
    "    </div>"
   ]
  },
  {
   "cell_type": "markdown",
   "id": "25f74825-020f-49b8-831e-ba2d97bc6c48",
   "metadata": {},
   "source": [
    "## 2.2 Effect of gene flow\n",
    "\n",
    "Now we are going to introduce gene flow as an additional process in our model to see how it alters the proportions of discordant tree topologies."
   ]
  },
  {
   "cell_type": "markdown",
   "id": "7628a9b9-e089-4fc5-b428-07a86aeb6dd4",
   "metadata": {},
   "source": [
    "<div class=\"alert alert-block alert-info\">\n",
    "    <b>Popgen: Gene flow and topology likelihoods</b> \n",
    "    \n",
    "Gene flow will change topology likelihoods if it changes the rate of coalescence between two lineages. For example, gene flow between populations `X` and `Y` increases their rate of coalesence, thereby increasing the likelihood of the species topology `(Z,(X,Y));` and decreasing the likelihood of discordance. On the other hand, gene flow between `X` and `Z`, will increase the proportion of the discordant topology `(Y,(X,Z));`. Importantly, gene flow can lead to assymetry in discordant topology proportions, where one is expected to be more abundant than another. See the lecture slides for an example.\n",
    "</div>"
   ]
  },
  {
   "cell_type": "markdown",
   "id": "a217bf66-f7ff-48d5-a138-021620a032ac",
   "metadata": {},
   "source": [
    "### 2.2.1 Adding gene flow into the demographic model\n",
    "\n",
    "For this we need to modify our demgraphic model to include migration rates between pairs of populations. We will consider all possible migrations:\n",
    "\n",
    "`X` <- `Y` and `X` -> `Y`\n",
    "\n",
    "`X` <- `Z` and `X` -> `Z`\n",
    "\n",
    "`Y` <- `Z` and `Y` -> `Z`\n",
    "\n",
    "`XY_anc` <- `Z` and `XY_anc` -> `Z`\n"
   ]
  },
  {
   "cell_type": "code",
   "execution_count": null,
   "id": "d5939b49-4cd8-49c4-8125-9710eb70cfd2",
   "metadata": {},
   "outputs": [],
   "source": [
    "#demographic model including gene flow (called migration in these models)\n",
    "def three_pop_model(t_XY=2e4, t_XYZ=4e4,\n",
    "                    N_X=1e4, N_Y=1e4, N_Z = 1e4, N_XY=1e4, N_XYZ=1e4,\n",
    "                    m_X_to_Y=0, m_Y_to_X=0,\n",
    "                    m_X_to_Z=0, m_Z_to_X=0,\n",
    "                    m_Y_to_Z=0, m_Z_to_Y=0,\n",
    "                    m_XYanc_to_Z=0, m_Z_to_XYanc=0):\n",
    "    \n",
    "    #use the deme builder to set up the demographic history\n",
    "    b = demes.Builder(time_units=\"generations\")\n",
    "    b.add_deme(\"XYZanc\",                      epochs=[{\"start_size\":N_XYZ, \"end_time\":t_XYZ}])\n",
    "    b.add_deme(\"XYanc\", ancestors=[\"XYZanc\"], epochs=[{\"start_size\":N_XY,  \"end_time\":t_XY}])\n",
    "    b.add_deme(\"X\",     ancestors=[\"XYanc\"],  epochs=[{\"start_size\":N_X}])\n",
    "    b.add_deme(\"Y\",     ancestors=[\"XYanc\"],  epochs=[{\"start_size\":N_Y}])\n",
    "    b.add_deme(\"Z\",     ancestors=[\"XYZanc\"], epochs=[{\"start_size\":N_Z}])\n",
    "    \n",
    "    #add migration to the model, but only if the rate specified is > 0\n",
    "    if m_X_to_Y > 0: b.add_migration(source=\"X\", dest=\"Y\", rate=m_X_to_Y)\n",
    "    if m_Y_to_X > 0: b.add_migration(source=\"Y\", dest=\"X\", rate=m_Y_to_X)\n",
    "    if m_X_to_Z > 0: b.add_migration(source=\"X\", dest=\"Z\", rate=m_X_to_Z)\n",
    "    if m_Z_to_X > 0: b.add_migration(source=\"Z\", dest=\"X\", rate=m_Z_to_X)\n",
    "    if m_Y_to_Z > 0: b.add_migration(source=\"Y\", dest=\"Z\", rate=m_Y_to_Z)\n",
    "    if m_Z_to_Y > 0: b.add_migration(source=\"Z\", dest=\"Y\", rate=m_Z_to_Y)\n",
    "    if m_XYanc_to_Z > 0: b.add_migration(source=\"XYanc\", dest=\"Z\", rate=m_XYanc_to_Z)\n",
    "    if m_Z_to_XYanc > 0: b.add_migration(source=\"Z\", dest=\"XYanc\", rate=m_Z_to_XYanc)\n",
    "    \n",
    "    graph = b.resolve()\n",
    "    \n",
    "    return(graph)"
   ]
  },
  {
   "cell_type": "markdown",
   "id": "88ea7f38-107a-4b0d-9088-ebc5938f3320",
   "metadata": {},
   "source": [
    "### 2.2.2 Simulations with gene flow\n",
    "\n",
    "We will start by adding migration between X and Y and then examining its effect on the proportion of discordance.\n",
    "\n",
    "First we will build our new demographic model including migration and have a look at the graph. Migration rates are specified as a proportion of the population made up of immigrants **each generation**. So we use a **small number**."
   ]
  },
  {
   "cell_type": "code",
   "execution_count": null,
   "id": "e5d048fb-0578-4427-9e36-461cb4123170",
   "metadata": {},
   "outputs": [],
   "source": [
    "# Model with migration for X to Y\n",
    "model_graph = three_pop_model(m_X_to_Y=1e-4)\n",
    "\n",
    "demesdraw.tubes(model_graph)\n",
    "\n",
    "#simulate a treesequence\n",
    "ts = msprime.sim_ancestry(samples={\"X\": 1, \"Y\": 1, \"Z\":1},\n",
    "                          demography = msprime.Demography.from_demes(model_graph),\n",
    "                          sequence_length = 10e6, recombination_rate = 2e-8, ploidy=1, random_seed=123)\n",
    "\n",
    "#use function to get topology proportions\n",
    "get_topology_proportions(ts)"
   ]
  },
  {
   "cell_type": "markdown",
   "id": "c0e95320-5541-49aa-a11b-83db34e1120d",
   "metadata": {},
   "source": [
    "Note the arrows added betwen X and Y showing unidirectional gene flow from X into Y."
   ]
  },
  {
   "cell_type": "markdown",
   "id": "4899756a-631f-425e-a994-b8adbf867aa9",
   "metadata": {},
   "source": [
    "We see that migration between X and Y **decreases** discordance. This is because it *increases* opportunities for coalescence between lineages from X and Y."
   ]
  },
  {
   "cell_type": "markdown",
   "id": "a8a26d76-b798-4b04-aae8-52111e1ab165",
   "metadata": {},
   "source": [
    "<div class=\"alert alert-block alert-success\">    \n",
    "    <b>Exercise 7:</b>\n",
    "\n",
    "What is the effect of migration between Z and X on the level of discordance?\n",
    "\n",
    "What affect does migration between other population pairs have? (pay attention to the **relative proportion of the two discordant topologies**)\n",
    "\n",
    "**Hint:** `demesdraw` sometimes displays the model in strange ways to fit the migration arrows in, so don't be alarmed.\n",
    "    </div>"
   ]
  },
  {
   "cell_type": "code",
   "execution_count": null,
   "id": "3db4bdca-8cf3-424d-b33a-cc15a99aa09b",
   "metadata": {},
   "outputs": [],
   "source": [
    "# SOLUTION:\n",
    "### Add your code here"
   ]
  },
  {
   "cell_type": "markdown",
   "id": "ce681ba6-8e7f-45ae-a301-380bd96ea6d2",
   "metadata": {},
   "source": [
    "<div class=\"alert alert-block alert-success\">    \n",
    "    <b>Class discussion:</b>\n",
    "\n",
    "Which migrations caused assymetry in the number of discordant topologies?\n",
    "\n",
    "What does it mean if the species topology is not teh most abundant type of genealogy?\n",
    "    </div>"
   ]
  },
  {
   "cell_type": "markdown",
   "id": "457efc06-fb9b-4a05-8992-9099514ab1f1",
   "metadata": {},
   "source": [
    "---\n",
    "# 3. Investigating gene flow between Neanderthals and modern humans with real data\n",
    "\n",
    "We will now turn to some real data from hominids and ask whether there is evidence of historical gene flow between Neanderthals and modern humans. We will be using the *D* statistic described in detail by [Durand et al. 2011](https://doi.org/10.1093/molbev/msr048).\n",
    "\n",
    "Our data from **modern humans** comes from the 1000 Genomes Project, now hosted by the [IGSR: The International Genome Sample Resource](https://www.internationalgenome.org/).\n",
    "\n",
    "Our data from **Neanderthals** comes from the [Altai Neanderthal Genome](https://www.eva.mpg.de/genetics/genome-projects/neandertal/) [[original publication](https://doi.org/10.1038/nature12886)].\n",
    "\n",
    "Finally, in order to compute the *D* statistic, we need an outgroup to polarise our data.\n",
    "\n",
    "We will use chimpanzee data from [the genome of a chimp called Clint](https://www.ncbi.nlm.nih.gov/assembly/GCF_002880755.1/).\n",
    "\n",
    "All of this data has been aligned to the [human reference genome build 37](https://www.ncbi.nlm.nih.gov/assembly/GCF_000001405.13/).\n",
    "\n",
    "The archaic genomes were generated from ancient DNA, and therefore many CpG sites will have undergone post-mortem deamination to TpG. Therefore, all observed and potential CpG sites have been removed.\n",
    "\n",
    "Finally, we are only analysing chromosome 1, for efficiency.\n"
   ]
  },
  {
   "cell_type": "markdown",
   "id": "43e9f9f9-ec4f-46ab-98a3-d4e9cfe0251e",
   "metadata": {
    "tags": []
   },
   "source": [
    "## 3.1 Introgression analysis using single haploid genomes ###\n",
    "\n",
    "The simplest form of introgression analysis we can do uses just a single haploid genome from each of four populations.\n",
    "\n",
    "* An outgroup (in this case, chimp assembly `panTro6`)\n",
    "* A putative donor (P3) (in this case, Altai Neanderthal `AltaiNea`)\n",
    "* A putative recipient (P2) (in this case a randomly chosen British individual `HG00096`)\n",
    "* A control population (P1) (in this case a randomly chosen Nigerian of Yaruban ancestry `NA18488`)\n",
    "\n",
    "We have downsampled the genomes to a single haploid base to simplify this analysis.\n",
    "\n",
    "### 3.1.1 Loading the data from a VCF file\n",
    "\n",
    "We start be defining the fields we are interested in in the VCF. In this case, just the sample names and genotypes. Then load the VCF using `allel`."
   ]
  },
  {
   "cell_type": "code",
   "execution_count": null,
   "id": "a81b0fb0-314c-4384-9d87-351b097e1f48",
   "metadata": {},
   "outputs": [],
   "source": [
    "query_fields = ['samples', 'calldata/GT']\n",
    "\n",
    "vcf_dict = allel.read_vcf('Prac6_data_2024/YRI1rndm_GBR1rndm_ALTrndm_chimp.chr1.SNP.vcf.gz', fields=query_fields)"
   ]
  },
  {
   "cell_type": "markdown",
   "id": "5ddc0960-a73f-4ed7-8d8f-50642a89f841",
   "metadata": {},
   "source": [
    "Check the sample names."
   ]
  },
  {
   "cell_type": "code",
   "execution_count": null,
   "id": "bc4fa94c-a450-4888-a9b3-0f62940a132e",
   "metadata": {},
   "outputs": [],
   "source": [
    "print(\"Samples: \", vcf_dict['samples'])"
   ]
  },
  {
   "cell_type": "markdown",
   "id": "e5929a2e-4645-4907-8624-29905ff77315",
   "metadata": {},
   "source": [
    "We can look at the variants array to ensure it has been loaded correctly"
   ]
  },
  {
   "cell_type": "code",
   "execution_count": null,
   "id": "038e6f4b-3c24-43d0-a995-4526842d0ec0",
   "metadata": {},
   "outputs": [],
   "source": [
    "print(vcf_dict['calldata/GT'])\n",
    "vcf_dict['calldata/GT'].shape"
   ]
  },
  {
   "cell_type": "markdown",
   "id": "74e466e3-b1b7-4817-9ab4-6a5a8eade868",
   "metadata": {},
   "source": [
    "`0` indicates the reference base and `1` indicates the alternate base. `-1` indicates missing data.\n",
    "\n",
    "Note that the array has three dimensions:\n",
    "1. Variants (393776)\n",
    "2. Samples (4)\n",
    "3. Alleles within each sample (2)\n",
    "\n",
    "So there are two genotypes recorded at each site for each sample, but the second one is always 'missing' (`-1`). This is because the `read_vcf()` function of `allel` assumes diploid data, so reading a haploid file always results in one missing genotype.\n",
    "\n",
    "To get around this we can simply ignore the second entry in the third dimension, thereby creating a 2-dimensional haplotype array."
   ]
  },
  {
   "cell_type": "code",
   "execution_count": null,
   "id": "758cee5a-abd4-454c-8a65-f16a0c800dd4",
   "metadata": {},
   "outputs": [],
   "source": [
    "#extract only first allele and convert to pandas dataframe\n",
    "haplotypes = pd.DataFrame(vcf_dict['calldata/GT'][:,:,0])\n",
    "\n",
    "#add labels\n",
    "haplotypes.columns = [\"Afr\", \"Eur\", \"Nea\", \"Chimp\"]\n",
    "\n",
    "haplotypes"
   ]
  },
  {
   "cell_type": "markdown",
   "id": "741b70e2-d416-4eaa-97b1-e2f7b884c282",
   "metadata": {},
   "source": [
    "### 3.1.2 Filtering to retain only useful sites\n",
    "\n",
    "Note that there is still some missing data in the haplotype array. Both the chimp and neanderthal were aligned to the human reference genome, and sites at which alignment was unreliable are defined as missing (`-1`). This also happens when aligning genomes from the same species, but all missing data in the 1000 genomes data set has been \"imputed\".\n",
    "\n",
    "The sites with missing data are not useful for our analysis, so we flag and remove these sites.\n",
    "\n",
    "We also want to retain only biallelic sites. We will define these as sites at which only the human reference allele `0` and one alternate allele `1` is present. All sites with more than one alternate allele is present (alleles numbered `2` or more), will be excluded."
   ]
  },
  {
   "cell_type": "code",
   "execution_count": null,
   "id": "3564b0f4-4d77-4e9b-8e21-0dc8a2c59821",
   "metadata": {},
   "outputs": [],
   "source": [
    "#identify biallelic sites and those without missing data\n",
    "biallelic = haplotypes.max(axis=1) == 1\n",
    "nomissing = haplotypes.min(axis=1) == 0\n",
    "\n",
    "#subset the haplotypes\n",
    "haplotypes = haplotypes[biallelic & nomissing]\n",
    "\n",
    "haplotypes"
   ]
  },
  {
   "cell_type": "markdown",
   "id": "6685a149-c926-4221-86d8-cd82e365036c",
   "metadata": {},
   "source": [
    "### 3.1.3 Polarising the data"
   ]
  },
  {
   "cell_type": "markdown",
   "id": "0cf96d6a-0a45-48bb-b7d7-d4cb15c692d9",
   "metadata": {},
   "source": [
    "<div class=\"alert alert-block alert-info\">\n",
    "    <b>Popgen: Ancestral and Derived alleles</b>\n",
    "\n",
    "For many applications it is useful to know which allele is <b>ancestral</b>, and which is <b>derived</b> (i.e. to \"polarise\" the mutations). For simulated data, this is known, but in real data we have to infer the ancestral state by examination of related taxa. For example, if there are two alleles segregating within humans and only one of these is observed in the champanzee, we can infer that the allele shared by the chimpanzee is ancestral. This implies that the derived allele arose within the human lineage after the divergence between human and chimp (~6 MYA). This inference is fairly safe because it is unlikely that there is much incomplete lineage sorting in the long branch ancestral to humans and Neanderthals over this timeframe.\n",
    "    </div>"
   ]
  },
  {
   "cell_type": "markdown",
   "id": "842a2ee9-3bb1-44ad-b009-07d7dcc4c33b",
   "metadata": {},
   "source": [
    "Currently, alleles are numbered according to whether they match the human **reference** genome (`0`) or **alternate** allele (`1`). This is ***not*** the same as **ancestral** and **derived** alleles.\n",
    "\n",
    "To polarise our data, we will assume that the chimp always carries the ancestral allele, which we want to be represented by `0`. We therefore need to identify all sites at which the chimp allele is currently `1`, and 'flip' these, by converting `1` to `0` and `0` to `1` **in all individuals**."
   ]
  },
  {
   "cell_type": "code",
   "execution_count": null,
   "id": "4587d249-3419-4949-9ae8-1c98e05a24e0",
   "metadata": {},
   "outputs": [],
   "source": [
    "sites_to_flip = haplotypes.Chimp == 1\n",
    "\n",
    "#a new object to contain the polarised haplotypes\n",
    "haplotypes_pol = haplotypes.copy()\n",
    "\n",
    "#subtracting from 1 will convert 1s to 0s and 0s to 1s\n",
    "haplotypes_pol[sites_to_flip] = 1 - haplotypes[sites_to_flip]\n",
    "\n",
    "print(haplotypes_pol)"
   ]
  },
  {
   "cell_type": "markdown",
   "id": "9c1b7f9d-01ef-451c-8fa8-62283d21723c",
   "metadata": {
    "tags": []
   },
   "source": [
    "### 3.1.3 ABBA BABA and D statistic"
   ]
  },
  {
   "cell_type": "markdown",
   "id": "78fd28ae-9be4-4f10-9ff6-894728cdcd92",
   "metadata": {},
   "source": [
    "<div class=\"alert alert-block alert-info\">\n",
    "    <b>Popgen: ABBA BABA statistics</b>\n",
    "\n",
    "Although we cannot observed genealogies directly from SNP data, we can use the \"ABBA\" and \"BABA\" site patterns as proxies for genealogical discordance. These are sites at which the Neanderthal shares a derived allele with either the European (ABBA) or African (BABA).\n",
    "\n",
    "Under a simple bifurcating model without gene flow, the **relative** proportion of the two types of discordant topologies is **equal**, **regardless of population sizes and split times**. Therefore, the expected frequencies of ABBA and BABA mutation patterns is also equal under this null model.\n",
    "\n",
    "In reality, recurrent mutation at the same site in different lineages can also give rise to ABBA and BABA patterns, but this should also lead to equivalent numbers of both, unless mutation rates are unequal between populations, which is [currently a controversial idea](https://doi.org/10.1098/rsos.191900). We will therefore assume that a deviation from equality in the number of ABBA and BABA sites is indicative of gene flow between Neanderthals and one of the modern human populations. The $D$ statistic provides a test for a deviation from this expected equilibrium.\n",
    "    \n",
    "$$ D = \\frac{\\sum{ABBA} - \\sum{BABA}}{\\sum{ABBA} + \\sum{BABA}} $$\n",
    "    \n",
    "</div>"
   ]
  },
  {
   "cell_type": "markdown",
   "id": "e908889e-af09-419e-98b0-77aa0a219f72",
   "metadata": {},
   "source": [
    "Given that the samples are already ordered \\[African, European, Neanderthal, Chimp\\], we can easliy identify ABBA sites as those at which the genotypes are `[0,1,1,0]` and BABA sites where the genotypes are `[1,0,1,0]`. The `numpy.all()` function ensures that all of genotypes match the pattern defined."
   ]
  },
  {
   "cell_type": "code",
   "execution_count": null,
   "id": "911d2b00-537b-4cd3-bf4f-6d6d8c94283a",
   "metadata": {},
   "outputs": [],
   "source": [
    "#creat a logical array indicating whether each site matches the ABBA or BABA pattern\n",
    "ABBA = np.all(haplotypes_pol == [0,1,1,0], axis=1)\n",
    "BABA = np.all(haplotypes_pol == [1,0,1,0], axis=1)\n",
    "\n",
    "#Sum the logical array to get the total count\n",
    "print(\"ABBA sites:\", ABBA.sum())\n",
    "print(\"BABA sites:\", BABA.sum())"
   ]
  },
  {
   "cell_type": "markdown",
   "id": "ebd5e883-b5d7-4da3-9feb-a2f19412dc15",
   "metadata": {},
   "source": [
    "<div class=\"alert alert-block alert-success\">    \n",
    "    <b>Exercise 8:</b>\n",
    "\n",
    "Write python code to compute and print the D statistic, which is the normalised difference between the total number of ABBA and BABA sites\n",
    "    </div>"
   ]
  },
  {
   "cell_type": "code",
   "execution_count": null,
   "id": "b78ee2ca",
   "metadata": {},
   "outputs": [],
   "source": [
    "#SOLUTION:\n",
    "\n",
    "### ADD YOUR CODE HERE ###"
   ]
  },
  {
   "cell_type": "markdown",
   "id": "1f68306e-c1d1-40b3-8aef-e3b22743c445",
   "metadata": {},
   "source": [
    "A positive *D* indicates excess of ABBA sites, consitent with **introgression between the Neanderthal and the European**. Below we will investigate the statistical significance of this D value, but first we will consider the proportion of introgression.\n",
    "\n",
    "Note that *D* is not the same as the proportion of this individual's genome that is of Neanderthal origin. To estimate that parameter we need to take a slightly different approach."
   ]
  },
  {
   "cell_type": "markdown",
   "id": "e7e5f360-dea8-4c86-9cd9-32a51a547a9c",
   "metadata": {},
   "source": [
    "### 3.1.4 Estimating *f*: the proportion of introgression\n"
   ]
  },
  {
   "cell_type": "markdown",
   "id": "1811bb20-f40b-4687-b375-e7d55c4bd918",
   "metadata": {},
   "source": [
    "<div class=\"alert alert-block alert-info\">\n",
    "    <b>Popgen: Proportion of introgression</b>\n",
    "\n",
    "To estimatate <i>f</i>, the proportion of this individual's genome that is of Neanderthal origin, we will use a common approach that compares the observed and expected excess of ABBA and BABA sites.\n",
    "\n",
    "We will estimate the expected number of ABBA and BABA sites under the scenario that gene flow is complete, such that the <i>European is 100% Neanderthal</i>. A crude way to do this is to substitute the Neanderthal in for the European. In other words, we are calculating ABBA and BABA sites but with the Neanderthal genome used to represent *both* the Neanderthal and the European. If we had two Neanderthal genomes, we could have used one for each, but since we only have one, we will use it in both positions.\n",
    "\n",
    "We compare this hypothetical excess of ABBA over BABA to our observed excess to estimate *f*.\n",
    "    \n",
    "$$ f = \\frac{\\sum{ABBA}[Afr, Eur, Nea, Chimp] - \\sum{BABA}[Afr, Eur, Nea, Chimp] } {\\sum{ABBA}[Afr, Nea, Nea, Chimp] - \\sum{BABA}[Afr, Nea, Nea, Chimp]} $$\n",
    "\n",
    "You might notice that, under this strict substitution scenario, BABA sites are all impossible because the Neanderthal and \"European\" (which is also represented by the same Neanderthal haplotype) cannot differ. Had we used two separate neanderthals, there would have been some BABA sites in the denominator.\n",
    "</div>"
   ]
  },
  {
   "cell_type": "markdown",
   "id": "ffd55c7b-a2a0-46f5-a76c-7d5cb85b7e44",
   "metadata": {},
   "source": [
    "The denominator for *f* estimation requires that we re-count ABBA and BABA sites but with the neanderthal substituted in place of the European."
   ]
  },
  {
   "cell_type": "code",
   "execution_count": null,
   "id": "ce0e5af4-9354-4b26-9368-40d757fe6df5",
   "metadata": {},
   "outputs": [],
   "source": [
    "#possible ABBAs are sites at which the African is 0, the Neanderthal is 1 and the chimp is 0\n",
    "ABBA_possible = np.all(haplotypes_pol[[\"Afr\",\"Nea\",\"Nea\",\"Chimp\"]] == [0,1,1,0], axis=1)\n",
    "BABA_possible = np.all(haplotypes_pol[[\"Afr\",\"Nea\",\"Nea\",\"Chimp\"]] == [1,0,1,0], axis=1)\n",
    "\n",
    "f = (ABBA.sum() - BABA.sum()) / (ABBA_possible.sum() - BABA_possible.sum())\n",
    "\n",
    "print(\"f:\", f)"
   ]
  },
  {
   "cell_type": "markdown",
   "id": "0e31ce34-573e-4007-96bb-748e63840a81",
   "metadata": {},
   "source": [
    "So our randomly chosen British individual has an estimated ~1.9% of neanderthal ancestry on chromosome 1."
   ]
  },
  {
   "cell_type": "markdown",
   "id": "9acb0b9b-6b86-488e-9ccf-5c05d882dc99",
   "metadata": {},
   "source": [
    "<div class=\"alert alert-block alert-success\">    \n",
    "    <b>Class discussion:</b>\n",
    "\n",
    "Because we had only one Neanderthal genome, we have made the assumption that under complete introgression, the European genome would be identical to this Neanderthal. What is problematic with this assumption, and what does it mean for our estimate of <i>f</i> ?\n",
    "\n",
    "We have assumed directional introgression from neanderthal into European. What would it mean for our <i>f</i> estimate if gene flow had gone mostly the other way, from European into Neandertahl?\n",
    "</div>"
   ]
  },
  {
   "cell_type": "markdown",
   "id": "4b1f13aa-8027-47e6-b4d9-f90901fc8df9",
   "metadata": {},
   "source": [
    "## 3.2 Introgression analysis using allele frequencies\n",
    "\n",
    "Our analysis above made use of just a single haploid genome from each population. How could we extend this analysis to multiple diploid genomes? We could imagine sampling all possible sets of one haploid genome from each population and repeating the analysis, but this would be very tedious. Instead, we can make use of all of the data at once by using **allele frequencies**.\n",
    "\n",
    "### 3.2.1 The 1000 genomes data set\n",
    "\n",
    "For this full analysis we will use a more complete version of the 1000 genomes data set, comprising 26 populations.\n",
    "\n",
    "\n",
    "|                African                                    | Code  |\n",
    "|-----------------------------------------------------------|-------|\n",
    "|   Gambian in Western Division – Mandinka                  |  GWD  |\n",
    "|   Mende in Sierra Leone                                   |  MSL  |\n",
    "|   Esan in Nigeria                                         |  ESN  |\n",
    "|   Yoruba in Ibadan, Nigeria                               |  YRI  |\n",
    "|   Luhya in Webuye, Kenya                                  |  LWK  |\n",
    "\n",
    "|                American                                   | Code  |\n",
    "|-----------------------------------------------------------|-------|\n",
    "|   Mexican Ancestry in Los Angeles CA USA                  |  MXL  |\n",
    "|   Colombian in Medellín, Colombia                         |  CLM  |\n",
    "|   Peruvian in Lima Peru                                   |  PEL  |\n",
    "|   Puerto Rican in Puerto Rico                             |  PUR  |\n",
    "|   African Caribbean in Barbados                           |  ACB  |\n",
    "|   African Ancestry in SW USA                              |  ASW  |\n",
    "\n",
    "|                Asian                                      | Code  |\n",
    "|-----------------------------------------------------------|-------|\n",
    "|   Punjabi in Lahore, Pakistan                             |  PJL  |\n",
    "|   Gujarati Indians in Houston, Texas, USA                 |  GIH  |\n",
    "|   Indian Telugu in the U.K.                               |  ITU  |\n",
    "|   Sri Lankan Tamil in the UK                              |  STU  |\n",
    "|   Bengali in Bangladesh                                   |  BEB  |\n",
    "|   Chinese Dai in Xishuangbanna, China                     |  CDX  |\n",
    "|   Han Chinese in Beijing, China                           |  CHB  |\n",
    "|   Han Chinese South                                       |  CHS  |\n",
    "|   Japanese in Tokyo, Japan                                |  JPT  |\n",
    "|   Kinh in Ho Chi Minh City, Vietnam                       |  KHV  |\n",
    "\n",
    "|                European                                   | Code  |\n",
    "|-----------------------------------------------------------|-------|\n",
    "|   Finnish in Finland                                      |  FIN  |\n",
    "|   British From England and Scotland                       |  GBR  |\n",
    "|   Iberian Populations in Spain                            |  IBS  |\n",
    "|   Toscani in Italia                                       |  TSI  |\n",
    "|   Utah residents with north and west European ancestry    |  CEU  |\n",
    "\n",
    "This can allow us to test for introgression in multiple locations. Individuals representing each population were asked to confirm that they have four grandparents all from that region/community. We can predict that some of these populations have experienced significant admixture in recent history (e.g. people with African ancestry in USA), whereas others may have had less recent admixture with other modern human populations (e.g. people from Finland).\n"
   ]
  },
  {
   "cell_type": "markdown",
   "id": "042ce5f0-ee7c-4779-b450-6b4c0fbe1dc5",
   "metadata": {},
   "source": [
    "### 3.2.2 Import allele frequencies for each population\n",
    "\n",
    "This dataset consists of all 26 populations in the 1000 Genomes dataset, as well as the Neanderthal, Chimp and a [Denisovan](https://www.eva.mpg.de/genetics/genome-projects/denisova/) [[original publication](https://doi.org/10.1126/science.1224344)]. To save time, we have pre-computed the **frequency of the derived allele** for each population. See Appendix A1 for complete code on how we got from VCF to derived allele frequency.\n",
    "\n",
    "Load the allele frequencies into a pandas dataframe."
   ]
  },
  {
   "cell_type": "code",
   "execution_count": null,
   "id": "f1c0871b-dd74-4633-bd69-c6e571536f59",
   "metadata": {},
   "outputs": [],
   "source": [
    "#import allele frequencies\n",
    "allele_freqs = pd.read_csv(\"Prac6_data_2024/1000G_ALT_DEN_chimp.chr1.freqs.csv.gz\")\n",
    "\n",
    "allele_freqs"
   ]
  },
  {
   "cell_type": "markdown",
   "id": "03c868b0-04dd-474e-a0d6-1ad745c004c8",
   "metadata": {
    "tags": []
   },
   "source": [
    "### 3.2.2 ABBA BABA analysis using allele frequencies\n"
   ]
  },
  {
   "cell_type": "markdown",
   "id": "f8ce9d62-9949-4506-b1f8-93229da1e631",
   "metadata": {},
   "source": [
    "<div class=\"alert alert-block alert-info\">\n",
    "    <b>Popgen: ABBA BABA statistics from allele frequencies</b>\n",
    "\n",
    "We can compute the probability of an ABBA or BABA using allele frequencies.\n",
    "\n",
    "$$ Pr[ABBA] = (1-p1) * p2 * p3 $$\n",
    "$$ Pr[BABA] = p1 * (1-p2) * p3 $$\n",
    "\n",
    "Where $p1$, $p2$, $p3$ are the derived allele frequencies in the African, European, Neanderthal, respectively.\n",
    "\n",
    "At a site where the European and neanderthal are fixed for the derived allele, and it is absent in Africans and Chimps, this will give $Pr[ABBA] = 1$. At sites where allele frequencies are intermediate, the value will range between 0 and 1.\n",
    "\n",
    "Note that the Chimp allele frequency is not icnluded here. This is because the chimp was used to infer which is the ancestral allele, so it will alwyas have a derived allele frequency of 0.\n",
    "\n",
    "</div>"
   ]
  },
  {
   "cell_type": "markdown",
   "id": "0b68bb1d-d512-4e93-be82-b77b824ce828",
   "metadata": {},
   "source": [
    "To compute ABBA and BABA counts and D statistics, we will write functions that use the allele frequencies."
   ]
  },
  {
   "cell_type": "code",
   "execution_count": null,
   "id": "161fe11e-3839-4a07-af90-f459714dc80a",
   "metadata": {},
   "outputs": [],
   "source": [
    "#function to compute ABBA and BABA per site and sum\n",
    "#We use nansum because some of the values are nan due to missing data\n",
    "def get_ABBA(P1_freqs, P2_freqs, P3_freqs):\n",
    "    return np.nansum((1 - P1_freqs) * P2_freqs * P3_freqs)"
   ]
  },
  {
   "cell_type": "markdown",
   "id": "ea6c7097-48c6-4455-a9d2-0495e80eab16",
   "metadata": {},
   "source": [
    "<div class=\"alert alert-block alert-success\">    \n",
    "    <b>Assessed Exercise 1 [1 point]:</b>\n",
    "\n",
    "Write a function called <code>get_BABA()</code> similar to the <code>get_ABBA()</code> function above.\n",
    "    </div>"
   ]
  },
  {
   "cell_type": "code",
   "execution_count": null,
   "id": "7175e7fd-bd09-4882-b608-c1a5b259f45a",
   "metadata": {},
   "outputs": [],
   "source": [
    "#SOLUTION:\n",
    "\n",
    "### ADD YOUR CODE HERE ###"
   ]
  },
  {
   "cell_type": "markdown",
   "id": "b9b42882-face-4aca-8832-61b62feed88c",
   "metadata": {},
   "source": [
    "Test these new functions. Here we will use CEU as our European population. This consists of [Utah residents with ancestry from northern and western Europe](https://catalog.coriell.org/1/NIGMS/Collections/CEPH-Resources), and is one of the best studied populations in human genetics."
   ]
  },
  {
   "cell_type": "code",
   "execution_count": null,
   "id": "af234132-0214-4869-a00e-2b8cc68684ab",
   "metadata": {},
   "outputs": [],
   "source": [
    "#define the populations to use\n",
    "P1, P2, P3 = \"YRI\", \"CEU\", \"NEA\"\n",
    "\n",
    "print(\"ABBA:\", get_ABBA(allele_freqs[P1], allele_freqs[P2], allele_freqs[P3]))\n",
    "print(\"BABA:\", get_BABA(allele_freqs[P1], allele_freqs[P2], allele_freqs[P3]))"
   ]
  },
  {
   "cell_type": "markdown",
   "id": "ae2a687e-c589-43a6-a08e-6bfa7f5e2d33",
   "metadata": {},
   "source": [
    "<div class=\"alert alert-block alert-success\">    \n",
    "    <b>Assessed Exercise 2 [2 points]:</b>\n",
    "\n",
    "Write a function called <code>get_D()</code> that takes the frequencies as inputs and uses the <code>get_ABBA()</code> and <code>get_BABA()</code> functions, and returns the D statistic.\n",
    "    </div>"
   ]
  },
  {
   "cell_type": "code",
   "execution_count": null,
   "id": "65509ce0-1328-4b0f-93f2-8d0396be3621",
   "metadata": {},
   "outputs": [],
   "source": [
    "#SOLUTION:\n",
    "def get_D(P1_freqs, P2_freqs, P3_freqs):\n",
    "    ### ADD YOUR CODE HERE ###\n"
   ]
  },
  {
   "cell_type": "markdown",
   "id": "fa8a0c64-3fef-4de4-a1f4-16469bf500fe",
   "metadata": {},
   "source": [
    "We also want to write a function to estimate the proportion of the genome that has been exchanged (*f*). Once again, we do this by assuming that introgression would lead to replacement of the European population by the Neanderthal. We will therefore calculate the expected number of possible ABBA and BABA sites when the allele frequencies in are replaced by those in the Neanderthal."
   ]
  },
  {
   "cell_type": "markdown",
   "id": "eb1ade31-801b-4bc1-a862-15700b4087d1",
   "metadata": {},
   "source": [
    "<div class=\"alert alert-block alert-success\">    \n",
    "    <b>Assessed Exercise 3 [3 points]:</b>\n",
    "\n",
    "Write a function called <code>get_f()</code> that takes the frequencies as inputs and uses the <code>get_ABBA()</code> and <code>get_BABA()</code> functions, and returns the estimated f.\n",
    "    </div>"
   ]
  },
  {
   "cell_type": "code",
   "execution_count": null,
   "id": "0eccc191-3323-4376-b125-27615c78b763",
   "metadata": {},
   "outputs": [],
   "source": [
    "#SOLUTION:\n",
    "def get_f(P1_freqs, P2_freqs, P3_freqs):\n",
    "    ### ADD YOUR CODE HERE ###\n"
   ]
  },
  {
   "cell_type": "markdown",
   "id": "dd6e9b34-3d81-442d-8c4a-80272302a304",
   "metadata": {},
   "source": [
    "Now we have all the pieces in place to compute *D* and *f* using any set of populatios we desire. If your functions work correctly, this next code block should output reasonable D and f values."
   ]
  },
  {
   "cell_type": "code",
   "execution_count": null,
   "id": "6e69248f-8b66-40c8-b6e0-fbb531834c13",
   "metadata": {},
   "outputs": [],
   "source": [
    "#define populations to use\n",
    "P1, P2, P3 = \"YRI\", \"CEU\", \"NEA\"\n",
    "\n",
    "#Get D\n",
    "print(\"D:\", get_D(allele_freqs[P1], allele_freqs[P2], allele_freqs[P3]))\n",
    "\n",
    "#Get f\n",
    "print(\"f:\", get_f(allele_freqs[P1], allele_freqs[P2], allele_freqs[P3]))\n"
   ]
  },
  {
   "cell_type": "markdown",
   "id": "ee6fc70f-ef99-4fbc-b51f-a75cfe818864",
   "metadata": {},
   "source": [
    "<div class=\"alert alert-block alert-success\">    \n",
    "    <b>Assessed Exercise 4 [3 points]:</b>\n",
    "\n",
    "Re-calculate the admixture proportion (f) for different P2 populations (always keeping P1 as YRI). What is the maximum and minimum admixture proportion in European populations? Asian populations? American populations? [3]\n",
    "    \n",
    "<b>HINT:</b> You can use a `for` loop, to set a differnt P2 population each time and recompute f using your `get_f` function.\n",
    "\n",
    "</div>"
   ]
  },
  {
   "cell_type": "code",
   "execution_count": null,
   "id": "13849c92-deac-46ec-ac7b-63a3790214a5",
   "metadata": {},
   "outputs": [],
   "source": [
    "#SOLUTION:\n",
    "\n",
    "European_populations = [\"FIN\", \"GBR\", \"IBS\", \"TSI\", \"CEU\"]\n",
    "Asian_populations = [\"PJL\", \"GIH\", \"ITU\", \"STU\", \"BEB\", \"CDX\", \"CHB\", \"CHS\", \"JPT\", \"KHV\"]\n",
    "American_populations = [\"MXL\", \"CLM\", \"PEL\", \"PUR\", \"ASW\", \"ACB\"]\n",
    "\n",
    "print(\"\\n Introgression into Europeans.\")\n",
    "\n",
    "### ADD YOUR CODE HERE ###\n",
    "\n",
    "print(\"\\n Introgression into Asians.\")\n",
    "\n",
    "### ADD YOUR CODE HERE ###\n",
    "\n",
    "print(\"\\n Introgression into Americans.\")\n",
    "\n",
    "### ADD YOUR CODE HERE ###"
   ]
  },
  {
   "cell_type": "markdown",
   "id": "a8ef4dc0-34e1-447e-8029-22aac79e7cd9",
   "metadata": {},
   "source": [
    "<div class=\"alert alert-block alert-success\">    \n",
    "    <b>Assessed Exercise 5 [3 points]:</b>\n",
    "\n",
    "a. The variance in f in Europe and Asia is fairly low. Explain why this is informative about the timing of gene flow from Neanderthals? [3]\n",
    "\n",
    "b. Some American populations have high levels of Neanderthal introgression and some have very low, why? [3]\n",
    "\n",
    "</div>"
   ]
  },
  {
   "cell_type": "markdown",
   "id": "9a801d4e",
   "metadata": {},
   "source": [
    "### Answer for Assessed Exercise 5:\n"
   ]
  },
  {
   "cell_type": "markdown",
   "id": "56f83125-3964-4091-96bd-2eeea123ba32",
   "metadata": {
    "tags": []
   },
   "source": [
    "## 3.3 Parametric bootstrap using simulated data"
   ]
  },
  {
   "cell_type": "markdown",
   "id": "4e15afcc-bb2c-44bf-93e6-fa09fe2ec0bf",
   "metadata": {
    "tags": []
   },
   "source": [
    "<div class=\"alert alert-block alert-info\">\n",
    "    <b>Bootstrapping the D statistic</b>\n",
    "\n",
    "Bootstrapping provides a means to assess the statistical significance of our results.\n",
    "\n",
    "1. A non-parametric bootstrap for the D statistic is usually achieved using a block jackknife approach to account for non-independence among SNPs, but it is difficult to be sure that non-independence is adequately accounted for.\n",
    "2. A parametric bootstrap can be achieved by simulating data under a model without gene flow to assess the <b>likelihood of observing the empirical results by chance alone</b>.\n",
    "\n",
    "We will implement a parametric bootstrap by simulating data under a realistic model. We will use the demographic model based on that inferred by [Jacobs et al.](https://doi.org/10.1016/j.cell.2019.02.035), which inludes the following well-supported events:\n",
    "* Neanderthals left Africa around 500,000 years ago.\n",
    "* Modern humans alive today descend from a population that remained in Africa until about 50,000 years ago.\n",
    "* The out-of-africa migration that gave rise to Europeans and Asians involved a short but strong bottleneck.\n",
    "* Soon after the out-of-Africa event, a pulse of admixture occurred from Neanderhals into out-of-africa humans.\n",
    "* Gene flow continued between human populations.\n",
    "</div>"
   ]
  },
  {
   "cell_type": "markdown",
   "id": "2587fe55-8670-461f-9072-400d21aa10f0",
   "metadata": {},
   "source": [
    "### 3.3.1 A simulation model for hominin ancestry\n",
    "\n",
    "Instead of defining this model ourselves, we will load it from a text file in .yaml format, interpretable by the `demes` package."
   ]
  },
  {
   "cell_type": "code",
   "execution_count": null,
   "id": "29bf6c16-728e-4ba7-b183-4c397be668dc",
   "metadata": {},
   "outputs": [],
   "source": [
    "model_graph = demes.load(\"Prac6_data_2024/HomSap_based_on_Jacobs.yaml\") #model with archaic gene flow\n",
    "\n",
    "demesdraw.tubes(model_graph, log_time=True)"
   ]
  },
  {
   "cell_type": "markdown",
   "id": "095dcb27-d549-429a-9da7-ccf193c153c9",
   "metadata": {},
   "source": [
    "We want to test the hypothesis of gene flow between archaics and modern humans. For our parametric bootstrap, we therefore want to use a **null model that does not include any gene flow**. We will use a modified version of the model above with the admixture 'pulse' from Neanderthals removed."
   ]
  },
  {
   "cell_type": "code",
   "execution_count": null,
   "id": "37b7269f-27f3-4133-b5b2-f6c03b407b63",
   "metadata": {},
   "outputs": [],
   "source": [
    "model_graph = demes.load(\"Prac6_data_2024/HomSap_based_on_Jacobs_no_introgression.yaml\") # model without archaic gene flow\n",
    "\n",
    "demesdraw.tubes(model_graph, log_time=True)"
   ]
  },
  {
   "cell_type": "markdown",
   "id": "d90cb340-5924-4ccf-964c-9968137bcc74",
   "metadata": {},
   "source": [
    "### 3.3.2. Bootstrapping the D statistic\n",
    "\n",
    "To test whether our D statistic differs significantly from zero, we will perform a parametric bootstrap by simulating a D statistic hundreds or thousands of times under this null model and comparing these values to our observed value. This involves the following steps:\n",
    "1. Simulate a treesequence under the null model (using the human chromosome 1 recombination map to keep things accurate\n",
    "2. Add mutations into the treesequence under a realistic mutational model\n",
    "3. Extract a genotye matrix\n",
    "4. Compute allele frequencies and from these the D statistic.\n",
    "5. Repeat steps 1-4 many times and compare the values to the observed value\n",
    "\n",
    "Unfortunately, each one of these simulations takes a few hours, so we will not be running through these steps now. See Appendix A2 for complete code for simulation and computation of D for human chromosome 1 under the model above.\n",
    "\n",
    "For this practical we will simply import 200 simulated D statistics from simulations that have been run for you and compare these to the observed value. These are saved as a text file with three columns: ABBA, BABA and D."
   ]
  },
  {
   "cell_type": "code",
   "execution_count": null,
   "id": "9a52c95c-e860-457b-a1c7-0e0e2d9f4c92",
   "metadata": {},
   "outputs": [],
   "source": [
    "#import simulated values\n",
    "sim_D = np.loadtxt(\"Prac6_data_2024/sim_D_200.txt\")"
   ]
  },
  {
   "cell_type": "markdown",
   "id": "f10c875f-9773-4741-bfe8-2f39e0b18ea3",
   "metadata": {},
   "source": [
    "We can assess visually how our observed D value compares to those simulated under the null model."
   ]
  },
  {
   "cell_type": "code",
   "execution_count": null,
   "id": "56b055b5-4ed5-4878-b2a0-0e6f1b7cad14",
   "metadata": {},
   "outputs": [],
   "source": [
    "#define populations to use\n",
    "P1, P2, P3 = \"YRI\", \"CEU\", \"NEA\"\n",
    "D = get_D(allele_freqs[P1], allele_freqs[P2], allele_freqs[P3])\n",
    "\n",
    "sns.histplot(sim_D)\n",
    "plt.axvline(D, 0,200)"
   ]
  },
  {
   "cell_type": "markdown",
   "id": "ede9d75c-85fd-494c-9124-6a522d5715b3",
   "metadata": {},
   "source": [
    "<div class=\"alert alert-block alert-success\">    \n",
    "    <b>Assessed Exercise 6 [2 points]:</b>\n",
    "\n",
    "Calculate the p-value for the test of whether our D value is **greater** than expected through chance alone under the null model. The **one-tailed** p-value is the proportion of simulated D values that are greater than or equal to the observed value.\n",
    "    \n",
    "**Hint:** Use the `>=` operator to make a logical array stating whether each simulated value is larger (`True`) or not larger (`False`) than the observed D. You can then use th `.sum()` function directly on the logical array (because it is equivalent to an array of zeros and ones), and this returns the number of `True` values. \n",
    "</div>"
   ]
  },
  {
   "cell_type": "code",
   "execution_count": null,
   "id": "9569d731-2727-44ad-97ad-9ef27fc5311d",
   "metadata": {},
   "outputs": [],
   "source": [
    "#SOLUTION:\n",
    "\n",
    "### ADD YOUR CODE HERE ###"
   ]
  },
  {
   "cell_type": "markdown",
   "id": "bde4d37b-2448-417b-ac2d-bad74fd4c654",
   "metadata": {},
   "source": [
    "<div class=\"alert alert-block alert-success\">    \n",
    "    <b>Assessed Exercise 7 [6 points]:</b>\n",
    "\n",
    "Given the observed D and f satisics, and the bootstrapping results, evaluate the evidence for introgression between Neanderthals and Europeans. Assuming the chromosome analysed is representative of the admixture proportion of the genome as a whole, would repeating this analysis and bootstrap at the scale of the whole genome change the statistical significance? Why?\n",
    "\n",
    "</div>"
   ]
  },
  {
   "cell_type": "markdown",
   "id": "7e6e36ba",
   "metadata": {},
   "source": [
    "### Answer for assessed exercise 7:\n"
   ]
  },
  {
   "cell_type": "markdown",
   "id": "0adf2893-c43d-4a29-b270-41baec5370d1",
   "metadata": {},
   "source": [
    "# -------------- END OF PRACTICAL 6 -----------------"
   ]
  },
  {
   "cell_type": "markdown",
   "id": "82e4de84-d401-4d7c-a80e-3d20c24c808d",
   "metadata": {},
   "source": [
    "---\n",
    "# Appendix A1. Extracting derived allele frequencies from a multi-sample VCF\n",
    "\n",
    "Above we used allelel frequencies to compute ABBA BABA statistics. This appendix covers the steps to obtain derived allele frequencies from a multi-sample VCF using the code below. This file contains 10 individuals each from 26 1000 Genomes project populations, one Neanderthal, one Denisovan and one Chimpanzee.\n",
    "\n",
    "First load the VCF file."
   ]
  },
  {
   "cell_type": "code",
   "execution_count": null,
   "id": "8c986bb6-d33f-4ae6-b14f-433abe8a0a0d",
   "metadata": {},
   "outputs": [],
   "source": [
    "query_fields = ['samples', 'calldata/GT']\n",
    "vcf_dict = allel.read_vcf('Prac6_data_2024/1000Gsubset_ALT_DEN_chimp.chr1.SNP.vcf.gz', fields=query_fields)"
   ]
  },
  {
   "cell_type": "markdown",
   "id": "fac6c937-69af-4416-a2a3-bc0cec47dad2",
   "metadata": {},
   "source": [
    "### A1.1 Generating and filtering the genotype array\n",
    "\n",
    "We will convert the data into a `allel.GeotypeArray`object, to take advantage of the inbuilt function to help us compute allele frequencies."
   ]
  },
  {
   "cell_type": "code",
   "execution_count": null,
   "id": "a4802303-45e5-4aae-9508-1a7475dbc14b",
   "metadata": {},
   "outputs": [],
   "source": [
    "genotypes = allel.GenotypeArray(vcf_dict['calldata/GT'])\n",
    "\n",
    "genotypes"
   ]
  },
  {
   "cell_type": "markdown",
   "id": "714e6911-a18f-4ab9-8530-378f651e6cad",
   "metadata": {},
   "source": [
    "Note that there are now 263 samples: 260 modern humans, 1 Neanderthal, 1 Denisovan and 1 chimp (that's Clint!).\n",
    "\n",
    "As before, we only want biallelic sites. Although the genotypes are displayed as `0/0` or `./.` (for missing data). The underlying data still consists of the values `0` for reference allele, `1`,`2` etc for alternate and `-1` for missing. We can therefore once again take those sites at which the highest alternate allele code is `1` as niallelic sites. We have to use the `max()` function twice: first to get the maximum value per site, and then to get the maximum value in the two alleles carried by each individual.\n"
   ]
  },
  {
   "cell_type": "code",
   "execution_count": null,
   "id": "12dabeda-d3f7-4107-a20b-5985130f38fe",
   "metadata": {},
   "outputs": [],
   "source": [
    "#biallelic sites are sites at which the maximum genotype is 1\n",
    "biallelic = genotypes.max(axis=1).max(axis=1) == 1\n",
    "\n",
    "genotypes = genotypes[np.where(biallelic)]\n",
    "\n",
    "genotypes.n_variants"
   ]
  },
  {
   "cell_type": "markdown",
   "id": "781ed1e2-d724-49ce-bd92-f6cb46e02a6e",
   "metadata": {},
   "source": [
    "### A1.2 Storing population info for each sample\n",
    "\n",
    "Each population in the 1000 Genomes data is represented by 10 samples. To count alleles, `allel` needs a dictionary giving the **index positions** for each population (i.e. which columns in the GenotypeArray). For example individuals from population `GBR` occupy columns 100-109. The 1000 genomes sample names are uninformative, so we load an additional file that tells us which population each sample comes from, and then retrieve its index position in the vcf."
   ]
  },
  {
   "cell_type": "markdown",
   "id": "d72cd37c-4d23-4870-87e9-5178750c52eb",
   "metadata": {},
   "source": [
    "<div class=\"alert alert-block alert-warning\">\n",
    "    <b>Python recipe: defaultdict</b> \n",
    "\n",
    "A <code>defaultdict</code> is a dictionary with a useful twist. When you try to access a key that is not yet in the dictionary, it automatically adds that key, and along with a corresponding default value of your choosing. For example <code>defaultdict(list)</code> creates a defaultdict that will create an empty list for each new key.\n",
    "\n",
    "**Why is this useful?** Below we will read through a text file line by line, which gives sample names and the population the belong to. For each sample, we will add its index position to a list depending on which population it comes from. These lists are stored in a dictionary. But what happens if we encounter a sample from a population we have not yet seen? We would normally need to add a *new key* to the dictionary. `defaultdict` avoids this problem. When we ask it to add the current sample to the appropriate population, if the population is not yet a key in the dictionary, it will first be added along with an empty list as its value, and then the sample will be added to that list as requested. This way, we avoid having to check that a key is present in the dictionary before modifying its corresponding value. </div>"
   ]
  },
  {
   "cell_type": "code",
   "execution_count": null,
   "id": "23a6f3ec-11d8-4e0c-a63a-0fc8f2781477",
   "metadata": {},
   "outputs": [],
   "source": [
    "#A defaultdict to store the sample indices for each population\n",
    "pop_idx_dict = defaultdict(list)\n",
    "\n",
    "#extract sample list from vcf header. We use this to find the index (position) of each sample from each population\n",
    "vcf_samples = list(vcf_dict[\"samples\"])\n",
    "\n",
    "#now run through the sample populations file to assign individuals to each population\n",
    "with open(\"Prac6_data_2024/1000Gsubset_ALT_DEN_chimp.pops.txt\", \"rt\") as popsfile:\n",
    "    for line in popsfile:\n",
    "        sample, population = line.split()\n",
    "        idx = vcf_samples.index(sample)\n",
    "        pop_idx_dict[population].append(idx) \n",
    "\n",
    "#we can now get a list of populations, which are represented by the keys of the dictionay\n",
    "pops = tuple(pop_idx_dict.keys())\n",
    "\n",
    "#Print the new dictionary to check the sample indices\n",
    "for pop in pops:\n",
    "    print(pop, pop_idx_dict[pop])\n"
   ]
  },
  {
   "cell_type": "markdown",
   "id": "0432eed0-53f9-40b0-bf3b-5bf883bef102",
   "metadata": {},
   "source": [
    "See that the 1000 Genomes populations each consist of 10 samples while the Neanderthal, Denisovan and Chimp each have 1."
   ]
  },
  {
   "cell_type": "markdown",
   "id": "fee9c566-ab07-46d1-b6d8-7e18ebb3be20",
   "metadata": {},
   "source": [
    "### A1.3 Allele frequencies\n",
    "\n",
    "We will use allele frequencies in each population for the ABBA BABA computation.\n",
    "\n",
    "First we will count the total number of observed reference (`0`) and alternate (`1`) alleles in each population. For this, we use the population index dictionary we made above."
   ]
  },
  {
   "cell_type": "code",
   "execution_count": null,
   "id": "ad7b563a-bdae-4311-b48f-741b56975a7a",
   "metadata": {},
   "outputs": [],
   "source": [
    "allele_counts = genotypes.count_alleles_subpops(pop_idx_dict)\n",
    "\n",
    "#Inspect some examples\n",
    "for pop in [\"GBR\", \"NEA\", \"CHIMP\"]:\n",
    "    print(pop)\n",
    "    print(allele_counts[pop])"
   ]
  },
  {
   "cell_type": "markdown",
   "id": "c5059bb1-486d-4b56-b37c-b8e2454598aa",
   "metadata": {},
   "source": [
    "Here the first number for each site is the number of copies of the reference allele, and the second number is the number of copies of the alternate allele.\n",
    "\n",
    "Note how the sum of allele counts for each population is the total number of haplotypes in that population. The chimp data has just one haplotype because it was haploid (it was made by aligning a haploid referecne genome to the human genome). Sites at which there is missing data are those where the number of reference and alternate alleles is zero.\n",
    "\n",
    "Once again, we now need to polarize our data: instead of counts of reference and alternate, we want counts of `ancestral` and `derived` alleles. We will again use the chimp to achive this, under the assumption that that the allele observed in the chimp (which is haploid) is always the ancestral allele. Therefore any site at which the chimp has the alternate base needs to be 'flipped'. At these sites, we will swap the counts of reference and alternate so that they match ancestral and derived."
   ]
  },
  {
   "cell_type": "code",
   "execution_count": null,
   "id": "7b3f132c-d29e-4a86-aeae-1f2c789a574e",
   "metadata": {},
   "outputs": [],
   "source": [
    "#identify sites where flipping is necessary\n",
    "sites_to_flip = np.where(np.all(allele_counts[\"CHIMP\"] == [0,1], axis=1))\n",
    "\n",
    "# for each population, flip the sites by reversing the allele counts\n",
    "for pop in pops:\n",
    "    allele_counts[pop][sites_to_flip] = allele_counts[pop][sites_to_flip][:,::-1]"
   ]
  },
  {
   "cell_type": "markdown",
   "id": "daf4f7b3-a1e7-4a48-8a58-d88523d13873",
   "metadata": {},
   "source": [
    "Finally, we convert the allele counts to allele frequencies (i.e. a value between 0 and 1 giving the proportion of the population sample made up of derived alleles. We will save these in a pandas dataframe for eacy export to a text file."
   ]
  },
  {
   "cell_type": "code",
   "execution_count": null,
   "id": "42a4717e-ff57-4e30-8aed-76bef630fc45",
   "metadata": {},
   "outputs": [],
   "source": [
    "#make an empty dataframe\n",
    "allele_freqs = pd.DataFrame()\n",
    "\n",
    "#divide the derived allel count by the total allele count\n",
    "for pop in pops:\n",
    "    allele_freqs[pop] = allele_counts[pop][:,1] / allele_counts[pop].sum(axis=1)\n",
    "\n",
    "allele_freqs"
   ]
  },
  {
   "cell_type": "markdown",
   "id": "3d47d763-5799-41de-94fb-c52869c73359",
   "metadata": {},
   "source": [
    "Don't worry about the warning. This is because some sites have missing data (no alleles observed) so we are dividing by zero. This is not a problem as these sites just get a frequency value `nan`, and will be excluded from any calculation."
   ]
  },
  {
   "cell_type": "markdown",
   "id": "c18ff5f4-714c-4b4d-8306-a8275ddb0216",
   "metadata": {},
   "source": [
    "Write allele frequencies to a text file, with gzip compression to save space. `index=False` tells pandas not to add a first column giving line numbers."
   ]
  },
  {
   "cell_type": "code",
   "execution_count": null,
   "id": "066be692-39ac-4480-8d6c-ad590ed6fdaf",
   "metadata": {},
   "outputs": [],
   "source": [
    "allele_freqs.to_csv(\"Prac6_data_2024/1000G_ALT_DEN_chimp.chr1.freqs.csv.gz\", index=False, compression=\"gzip\")"
   ]
  },
  {
   "cell_type": "markdown",
   "id": "0f471932-3b81-4465-a7c9-b45999aee076",
   "metadata": {},
   "source": [
    "---\n",
    "## Appendix A2: Computing the D statistic from simulated data\n",
    "\n",
    "Because the bootstrapping simulations take a long time, we ran them for you. The text below walks through the steps of how these simulations were done.\n"
   ]
  },
  {
   "cell_type": "markdown",
   "id": "7219c5ef-7e9f-4270-a1b7-451a85977407",
   "metadata": {},
   "source": [
    "### A2.1 Load the null demographic model\n",
    "\n",
    "First we load the demographic model from the .yaml file and convert this model into an `msprime.Dempgraphy` object."
   ]
  },
  {
   "cell_type": "code",
   "execution_count": null,
   "id": "c80a7e4e-810f-4053-a49f-cf49ac979825",
   "metadata": {},
   "outputs": [],
   "source": [
    "model_graph = demes.load(\"Prac6_data_2024/HomSap_based_on_Jacobs_no_introgression.yaml\") # model without archaic gene flow\n",
    "\n",
    "demography = msprime.Demography.from_demes(model_graph)"
   ]
  },
  {
   "cell_type": "markdown",
   "id": "0c6ee220-53c8-4cd0-8153-693939d5a9db",
   "metadata": {},
   "source": [
    "### A2.2 Load the recombination map for human chromosome 1\n",
    "\n",
    "Since we have used chromosome 1 for our analysis, we want our simulation to have the same chromosome length and recombination landscape. We therefore import a published genetic map for human chromosome 1 using `msprime`."
   ]
  },
  {
   "cell_type": "code",
   "execution_count": null,
   "id": "26cba359-f35a-4cad-b3ae-edfc1b6f4ec7",
   "metadata": {},
   "outputs": [],
   "source": [
    "recombination_map = msprime.RateMap.read_hapmap(\"Prac6_data_2024/genetic_map_GRCh37_chr1.txt.gz\")"
   ]
  },
  {
   "cell_type": "markdown",
   "id": "c31a9769-8f0a-4c61-8b0b-3a01cf96676c",
   "metadata": {},
   "source": [
    "### A2.3 Simulate treesequence and mutations for chr1\n",
    "\n",
    "We can now simulate the treesequence, ensuring that we sample 10 individuals each from the YRI (African) and CEU (European) populations, and one Altai Neanderthal.\n",
    "\n",
    "**NOTE: this large simulation will take a few hours to run**"
   ]
  },
  {
   "cell_type": "code",
   "execution_count": null,
   "id": "fe88e54e-e6c8-4f3e-b1ca-0ab44cb739ce",
   "metadata": {},
   "outputs": [],
   "source": [
    "ts = msprime.sim_ancestry(samples={\"YRI\": 10, \"CEU\": 10, \"NeaA\":1},\n",
    "                          demography=demography, recombination_rate = recombination_map,\n",
    "                          ploidy=2, record_provenance=False) #record_provenance=False just saves a little bit of memory"
   ]
  },
  {
   "cell_type": "markdown",
   "id": "a73db5e2-affb-4089-a97e-391b025af15e",
   "metadata": {},
   "source": [
    "Now instead of assessing the genealogies directly as we did earlier, we want to extract mutations so that we can identify ABBA and BABA sites. Currently our treesequence does not contain any mutations, so we need to add these using a second simulation step. First we define the mutation model. We will use the [HKY model](https://en.wikipedia.org/wiki/Models_of_DNA_evolution#HKY85_model_(Hasegawa,_Kishino_and_Yano_1985)), which has different rates for transistions and transversions, as well as different frequencies of purines and pyrimidines. This affects the probability of recurrent mutation at the same site, and is therefore necessary for a realistic simulation of ABBA and BABA sites."
   ]
  },
  {
   "cell_type": "code",
   "execution_count": null,
   "id": "146d6f99-7d76-4e0d-b99b-0e7e2629594e",
   "metadata": {},
   "outputs": [],
   "source": [
    "#HKY model with transition/transversion ratio of 2.1 and GC content of 0.6.\n",
    "mutation_model = msprime.HKY(kappa=2.1, equilibrium_frequencies=[0.3, 0.2, 0.2, 0.3])"
   ]
  },
  {
   "cell_type": "markdown",
   "id": "9cd0365a-2a82-4ad9-9ad2-3b7ad5065b11",
   "metadata": {},
   "source": [
    "Now simulate mutations onto the treesequence"
   ]
  },
  {
   "cell_type": "code",
   "execution_count": null,
   "id": "bb515443-e39d-445a-a25b-6f8949037e6e",
   "metadata": {},
   "outputs": [],
   "source": [
    "mts = msprime.sim_mutations(ts, rate=1e-8, model=mutation_model)"
   ]
  },
  {
   "cell_type": "markdown",
   "id": "e2601035-250f-4fee-b039-572e1892c5e7",
   "metadata": {},
   "source": [
    "### A2.4 Genotype matrix from treesequence\n",
    "\n",
    "We can extract a geotype matrix and generate a allel.HaplotypeArray object. We do not use allel. GenotypeArray because the simulation generates haploid sequences (2 haplotypes per diploid individual in the simulation)."
   ]
  },
  {
   "cell_type": "code",
   "execution_count": null,
   "id": "d413a8f1-56c6-4098-9508-701a8f00b615",
   "metadata": {},
   "outputs": [],
   "source": [
    "haplotypes = allel.HaplotypeArray(mts.genotype_matrix())\n",
    "\n",
    "haplotypes"
   ]
  },
  {
   "cell_type": "markdown",
   "id": "51f88ecd-a888-44cb-a183-6ca4885342dd",
   "metadata": {},
   "source": [
    "As we did before, we can ratain only biallelic sites. Since this is a 2-dimensional haplotype array, we just need to take the maximum of the first dimension and confim that it is 1."
   ]
  },
  {
   "cell_type": "code",
   "execution_count": null,
   "id": "e2d6a54b-6d2f-4c25-a848-ae56f59bc64c",
   "metadata": {},
   "outputs": [],
   "source": [
    "biallelic = haplotypes.max(axis=1) == 1\n",
    "\n",
    "haplotypes = haplotypes[np.where(biallelic)]"
   ]
  },
  {
   "cell_type": "markdown",
   "id": "39a9f7d0-b6b3-42ca-b11f-fd6b1428b2ee",
   "metadata": {},
   "source": [
    "### A2.5 Allele frequencies\n",
    "\n",
    "To calculate allele counts using `allel`, we need a dictionary giving the indices of each population in the haploype matrix. Since we sampled 10 diplioids from YRI. These represent indices 0 to 19. Likewise CEU is at indices 20 to 39. We sampled just one Neanderthal, which has indices 40 and 41."
   ]
  },
  {
   "cell_type": "code",
   "execution_count": null,
   "id": "f4818666-abee-4672-8929-dd94b716be3a",
   "metadata": {},
   "outputs": [],
   "source": [
    "pop_idx_dict = {\"YRI\": list(range(0,20)), \"CEU\": list(range(20,40)), \"NEA\": list(range(40,42))}\n",
    "\n",
    "allele_counts = haplotypes.count_alleles_subpops(pop_idx_dict)\n",
    "\n",
    "allele_counts"
   ]
  },
  {
   "cell_type": "markdown",
   "id": "2cfa524e-2834-415e-97ea-502bb58443c1",
   "metadata": {},
   "source": [
    "Now compute the derived allele frequency by dividing the second column in the allele counts by the total for each population."
   ]
  },
  {
   "cell_type": "code",
   "execution_count": null,
   "id": "374a7064-6b52-4485-883b-3bcd8d505fe5",
   "metadata": {},
   "outputs": [],
   "source": [
    "#make an empty dataframe\n",
    "allele_freqs = pd.DataFrame()\n",
    "\n",
    "#divide the derived allel count by the total allele count\n",
    "for pop in [\"YRI\", \"CEU\", \"NEA\"]:\n",
    "    allele_freqs[pop] = allele_counts[pop][:,1] / allele_counts[pop].sum(axis=1)\n",
    "\n",
    "allele_freqs"
   ]
  },
  {
   "cell_type": "markdown",
   "id": "e80383ae-6c4a-4647-9d72-19e33430d1e0",
   "metadata": {},
   "source": [
    "### A2.6 ABBA BABA statistics\n",
    "\n",
    "Finally, we can calculate ABBA, BABA, D and f from the allele frequencies. Although we did not simulate the outgroup, we know that it should have the ancestral allele at all sites, so its derived allele frequency can simply be set to 0 and this will be applied to all sites."
   ]
  },
  {
   "cell_type": "code",
   "execution_count": null,
   "id": "0d222088-e7ca-4320-af95-799b1590c76e",
   "metadata": {},
   "outputs": [],
   "source": [
    "#define populations to use\n",
    "P1, P2, P3 = \"YRI\", \"CEU\", \"NEA\"\n",
    "\n",
    "#ABBA and BABA\n",
    "print(\"ABBA:\", get_ABBA(allele_freqs[P1], allele_freqs[P2], allele_freqs[P3], 0))\n",
    "print(\"BABA:\", get_BABA(allele_freqs[P1], allele_freqs[P2], allele_freqs[P3], 0))\n",
    "\n",
    "#Get D directly\n",
    "print(\"D:\", get_D(allele_freqs[P1], allele_freqs[P2], allele_freqs[P3], 0))\n",
    "\n",
    "#Get f\n",
    "print(\"f:\", get_f(allele_freqs[P1], allele_freqs[P2], allele_freqs[P3], 0))"
   ]
  },
  {
   "cell_type": "markdown",
   "id": "66ec1257-4cf1-4ef5-a307-cdac000904ea",
   "metadata": {},
   "source": [
    "For the full bootstrap, the above procedure was repeated 200 times to produce a null distribution of D values for chromosome 1."
   ]
  }
 ],
 "metadata": {
  "kernelspec": {
   "display_name": "Python 3 (ipykernel)",
   "language": "python",
   "name": "python3"
  },
  "language_info": {
   "codemirror_mode": {
    "name": "ipython",
    "version": 3
   },
   "file_extension": ".py",
   "mimetype": "text/x-python",
   "name": "python",
   "nbconvert_exporter": "python",
   "pygments_lexer": "ipython3",
   "version": "3.10.0"
  }
 },
 "nbformat": 4,
 "nbformat_minor": 5
}
